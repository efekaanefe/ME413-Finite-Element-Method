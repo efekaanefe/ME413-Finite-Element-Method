{
  "cells": [
    {
      "cell_type": "code",
      "source": [
        "import numpy as np\n",
        "import matplotlib.pyplot as plt"
      ],
      "metadata": {
        "id": "BlJQ6l5EBRjB"
      },
      "execution_count": 1,
      "outputs": []
    },
    {
      "cell_type": "code",
      "source": [
        "\"\"\"\n",
        "TODOs:\n",
        "    solve for displacements of a 2D truss system where each truss has only one element\n",
        "\n",
        "    create TrussElement2D(node_indeces, E,A,L, f=[0,0,0,0], theta = 0)\n",
        "        - k_elem 4x4\n",
        "\n",
        "\n",
        "\"\"\""
      ],
      "metadata": {
        "id": "DnvREx5oBR0f"
      },
      "execution_count": 2,
      "outputs": []
    },
    {
      "cell_type": "code",
      "source": [
        "class TrussElement2D:\n",
        "    def  __init__(self, node_indeces, E,A,L, f_applied=[0,0,0,0], theta = 0, shape_funciton = \"linear\"):\n",
        "        self.node_indeces = node_indeces\n",
        "        self.E = E\n",
        "        self.A = A\n",
        "        self.L = L\n",
        "        self.f = f\n",
        "        self.theta = theta\n",
        "        self.shape_function = shape_function\n",
        "\n",
        "        self.get_local_stiffness_matrix()\n",
        "        self.get_global_stiffness_matrix()\n",
        "\n",
        "    def get_local_stiffness_matrix(self):\n",
        "        \"\"\"\n",
        "        returns the stiffness matrix for the element in local coordinates\n",
        "        \"\"\"\n",
        "\n",
        "        if self.shape_function == \"linear\":\n",
        "            k  = self.E*self.A/self.L\n",
        "            self.k_elem_local = k * np.array([[1,0,-1,0],[0,0,0,0],[-1,0,1,0],[0,0,0,0]])\n",
        "\n",
        "    def get_global_stiffness_matrix(self):\n",
        "        \"\"\"\n",
        "        returns the global stiffness matrix for the element in global coordinates\n",
        "        \"\"\"\n",
        "        S = np.sin(self.theta)\n",
        "        C = np.cos(self.theta\n",
        "\n",
        "        R = np.array([[C, S],\n",
        "                      [-S, C]])\n",
        "\n",
        "        T = np.array([[C,S,0,0],\n",
        "                      [-S,C,0,0],\n",
        "                      [0,0,C,S],\n",
        "                      [0,0,-S,C]])\n",
        "\n",
        "        self.K_elem_global = T.T @ self.k_elem_local @ T\n",
        "        return self.K_elem_global"
      ],
      "metadata": {
        "id": "Zs2W1bG9D4bA"
      },
      "execution_count": 4,
      "outputs": []
    }
  ],
  "metadata": {
    "language_info": {
      "name": "python"
    },
    "colab": {
      "provenance": []
    },
    "kernelspec": {
      "name": "python3",
      "display_name": "Python 3"
    }
  },
  "nbformat": 4,
  "nbformat_minor": 0
}