{
 "cells": [
  {
   "cell_type": "code",
   "execution_count": null,
   "metadata": {
    "id": "BlJQ6l5EBRjB"
   },
   "outputs": [],
   "source": [
    "import numpy as np\n",
    "import matplotlib.pyplot as plt\n",
    "import pprint"
   ]
  },
  {
   "cell_type": "code",
   "execution_count": null,
   "metadata": {
    "id": "DnvREx5oBR0f"
   },
   "outputs": [],
   "source": [
    "# TODOs:\n",
    "#     solve for displacements of a 2D truss system where each truss has only one element\n",
    "#     create TrussElement2D(node_indeces, E,A,L, f=[0,0,0,0], theta = 0)\n",
    "#         - k_elem 4x4\n",
    "\n"
   ]
  },
  {
   "cell_type": "code",
   "execution_count": null,
   "metadata": {
    "id": "Zs2W1bG9D4bA"
   },
   "outputs": [],
   "source": [
    "class TrussElement2D:\n",
    "    def  __init__(self, node_indeces, node_coordinates, E,A,L, distributed_load = 0, f_applied=[0,0,0,0], theta = 0, shape_function = \"linear\"):\n",
    "        self.node_indeces = node_indeces\n",
    "        self.node_coordinates = node_coordinates\n",
    "        self.E = E\n",
    "        self.A = A\n",
    "        self.L = L\n",
    "        self.q = distributed_load\n",
    "        self.f_applied = np.array(f_applied) # not necessary for current algorithm\n",
    "        self.theta = theta # from (right) to (up)\n",
    "        self.shape_function = shape_function\n",
    "\n",
    "        if self.shape_function != \"linear\":\n",
    "            raise NotImplementedError(\"Only linear shape functions are implemented\")\n",
    "        if self.q != 0:\n",
    "            raise NotImplementedError(\"Distributed loads are not implemented\")\n",
    "\n",
    "        self.B = 1/self.L * np.array([-1, 0, 1, 0])\n",
    "\n",
    "    def get_local_stiffness_matrix(self):\n",
    "        # returns the stiffness matrix for the element in local coordinates\n",
    "        k  = self.E*self.A/self.L\n",
    "        self.k_elem_local = k * np.array([[1,0,-1,0],[0,0,0,0],[-1,0,1,0],[0,0,0,0]])\n",
    "\n",
    "    def get_global_stiffness_matrix(self):\n",
    "        self.get_local_stiffness_matrix()\n",
    "        # returns the global stiffness matrix for the element in global coordinates\n",
    "        S = np.sin(np.deg2rad(self.theta))\n",
    "        C = np.cos(np.deg2rad(self.theta))\n",
    "        self.R = np.array([[C, S],\n",
    "                      [-S, C]])\n",
    "        self.T = np.array([[C,S,0,0],\n",
    "                      [-S,C,0,0],\n",
    "                      [0,0,C,S],\n",
    "                      [0,0,-S,C]])\n",
    "        self.K_elem_global = self.T.T @ self.k_elem_local @ self.T\n",
    "        return self.K_elem_global\n",
    "\n",
    "    def get_local_load_vector(self):\n",
    "        pass\n",
    "\n",
    "    def get_global_load_vector(self):\n",
    "        pass\n"
   ]
  },
  {
   "cell_type": "code",
   "execution_count": null,
   "metadata": {
    "id": "D9fH4rXJJkx4"
   },
   "outputs": [],
   "source": [
    "class TrussSystem2D:\n",
    "    def __init__(self, elements, num_nodes, forces, boundary_conditions):\n",
    "        self.elements = elements\n",
    "        self.num_nodes = num_nodes\n",
    "        self.forces = forces\n",
    "        self.boundary_conditions = boundary_conditions\n",
    "\n",
    "    # def get_node_coordinates(self):\n",
    "    #     origin = [0,0]\n",
    "\n",
    "    #     for element in self.elements:\n",
    "    #         for node_index in element.node_indeces:\n",
    "    #             if node_index == 0:\n",
    "    #                 node_coordinates = origin\n",
    "\n"
   ]
  },
  {
   "cell_type": "code",
   "execution_count": null,
   "metadata": {
    "id": "_0HgKe38uQis"
   },
   "outputs": [],
   "source": [
    "class Solver:\n",
    "    def __init__(self, system):\n",
    "        self.system = system\n",
    "\n",
    "    def solve(self):\n",
    "        K_global, F_global = self.assemble_global_matrices()\n",
    "        Kuu, Fuu = self.apply_boundary_conditions()\n",
    "        displacements = self.solve_displacements()\n",
    "        stresses = self.calculate_stresses()\n",
    "\n",
    "        return self.displacements, self.stresses\n",
    "\n",
    "    def assemble_global_matrices(self):\n",
    "        # Assemble global stiffness\n",
    "        self.K_global = np.zeros((self.system.num_nodes*2, self.system.num_nodes*2)) # multiply by 2 cause for a node 2 is the DoF hence it's 2D\n",
    "\n",
    "        for element in self.system.elements:\n",
    "            K_elem = element.get_global_stiffness_matrix()\n",
    "            node_per_element = len(self.system.elements[0].node_indeces) # 2 for linear\n",
    "\n",
    "            # Get the global DOF indices for the element's nodes\n",
    "            global_dof_indices = []\n",
    "            for node_index in element.node_indeces:\n",
    "                global_dof_indices.extend([2 * node_index, 2 * node_index + 1])  # DOFs: x, y\n",
    "\n",
    "            for i in range(len(global_dof_indices)):\n",
    "                for j in range(len(global_dof_indices)):\n",
    "                    self.K_global[global_dof_indices[i], global_dof_indices[j]] += K_elem[i, j]\n",
    "\n",
    "        # Assemble load vector\n",
    "        self.F_global = np.zeros((self.system.num_nodes*2))\n",
    "        for node_index, f_x, f_y in self.system.forces:\n",
    "            global_dof_index = int(2 * node_index)\n",
    "            self.F_global[global_dof_index] += f_x\n",
    "            self.F_global[global_dof_index + 1] += f_y\n",
    "\n",
    "        return self.K_global, self.F_global\n",
    "\n",
    "    def apply_boundary_conditions(self):\n",
    "        known_global_indeces = []\n",
    "        for node_index, constraint_x, constraint_y in self.system.boundary_conditions:\n",
    "            global_dof_index = int(2 * node_index)\n",
    "            if constraint_x == 1:\n",
    "                known_global_indeces.append(global_dof_index)\n",
    "            if constraint_y == 1:\n",
    "                known_global_indeces.append(global_dof_index + 1)\n",
    "        self.known_global_indeces = known_global_indeces\n",
    "\n",
    "        # get the matrix while remowing the indeces in known global indeces\n",
    "        self.Kuu = np.delete(np.delete(self.K_global, known_global_indeces, axis=0), known_global_indeces, axis=1)\n",
    "        self.Fuu = np.delete(self.F_global, known_global_indeces, axis=0)\n",
    "\n",
    "        return self.Kuu, self.Fuu\n",
    "\n",
    "    def solve_displacements(self):\n",
    "        self.Duu = np.linalg.solve(self.Kuu, self.Fuu) # unknown displacements\n",
    "\n",
    "        # merge known and unknown displacements based on self.known_global_indeces\n",
    "        unknown_global_indeces = [i for i in range(self.system.num_nodes*2) if i not in self.known_global_indeces]\n",
    "        self.displacements = np.zeros((self.system.num_nodes*2))\n",
    "        self.displacements[unknown_global_indeces] = self.Duu\n",
    "\n",
    "        return self.displacements\n",
    "\n",
    "\n",
    "    def calculate_stresses(self):\n",
    "        self.stresses = np.zeros(len(self.system.elements))\n",
    "        for i, element in enumerate(self.system.elements):\n",
    "            # get displacements for each node\n",
    "            displacement_1 = self.displacements[2*element.node_indeces[0]:2*element.node_indeces[0]+2]\n",
    "            displacement_2 = self.displacements[2*element.node_indeces[1]:2*element.node_indeces[1]+2]\n",
    "            D_elem_global = np.array([displacement_1, displacement_2]).flatten() # global displacement vector for element\n",
    "            d_elem_local = element.T @ D_elem_global  # local displacement vector for element\n",
    "            self.stresses[i] = element.E * element.B @ d_elem_local\n",
    "\n",
    "        return self.stresses\n"
   ]
  },
  {
   "cell_type": "code",
   "execution_count": null,
   "metadata": {
    "id": "k3ON7JEJLNtp"
   },
   "outputs": [],
   "source": [
    "class Plotter:\n",
    "    def __init__(self, solver):\n",
    "        self.system = solver.system\n",
    "        self.displacements = solver.displacements\n",
    "        self.stresses = solver.stresses\n",
    "\n",
    "    def plot_system(self):\n",
    "        \"\"\"\n",
    "        plots the truss system\n",
    "        \"\"\"\n",
    "        for i, element in enumerate(self.system.elements):\n",
    "            pos1, pos2 = element.node_coordinates\n",
    "            node_index1, node_index2 = element.node_indeces\n",
    "            offset = 30 # for text\n",
    "\n",
    "            # PLOT INITIAL SYSTEM\n",
    "            x1, y1 = pos1\n",
    "            x2, y2 = pos2\n",
    "            plt.scatter([x1,x2], [y1,y2],c=\"r\")\n",
    "            plt.plot([x1,x2], [y1,y2],c=\"r\")\n",
    "            plt.text(x1+offset, y1+offset, node_index1, color=\"r\")\n",
    "            plt.text(x2+offset, y2+offset, node_index2, color=\"r\")\n",
    "\n",
    "\n",
    "            # PLOT SYSTEM WITH DISPLACEMENTS\n",
    "            x1_disp, y1_disp = pos1 + self.displacements[2*node_index1:2*node_index1+2]\n",
    "            x2_disp, y2_disp = pos2 + self.displacements[2*node_index2:2*node_index2+2]\n",
    "            plt.scatter([x1_disp,x2_disp], [y1_disp,y2_disp],c=\"b\")\n",
    "            plt.plot([x1_disp,x2_disp], [y1_disp,y2_disp],c=\"b\", linestyle=\"--\")\n",
    "            plt.text(x1_disp+offset, y1_disp+offset, node_index1, color=\"b\")\n",
    "            plt.text(x2_disp+offset, y2_disp+offset, node_index2, color=\"b\")\n",
    "\n",
    "\n",
    "            # PLOT ELEMENT INTERNAL FORCES\n",
    "            x_mid = x1_disp + (x2_disp - x1_disp) * 0.5\n",
    "            y_mid = y1_disp + (y2_disp - y1_disp) * 0.5\n",
    "            plt.text(x_mid, y_mid, f\"{self.stresses[i]/1000*element.A:.2f} kN\", color=\"black\")\n",
    "\n",
    "\n",
    "        plt.title(\"Truss System\")\n",
    "        plt.xlabel(\"x [mm]\")\n",
    "        plt.ylabel(\"y [mm]\")\n",
    "        plt.show()\n"
   ]
  },
  {
   "cell_type": "code",
   "execution_count": null,
   "metadata": {
    "id": "-dW0_P4LsbDK"
   },
   "outputs": [],
   "source": [
    "# Add mesh generator like: https://youtu.be/kIiVQirjvyo?si=PuONgxOkn9lBsPu1&t=1994"
   ]
  },
  {
   "cell_type": "code",
   "execution_count": null,
   "metadata": {
    "id": "vyXSTtA_RCO-"
   },
   "outputs": [],
   "source": [
    "E = 100*10^3; A = 625; L=2000; # for each truss element, [units: N, mm, MPa]\n",
    "\n",
    "connectivity = np.array([[0,1], [0,2], [1,2], [1,3], [2,3], [2,4], [3,4]])\n",
    "nodal_coordinates = np.array([[0,0], [0,L], [L,0], [L,L], [2*L,0]])\n",
    "angles_of_elements = np.array([90,0,135,0,90,0,135])\n",
    "\n",
    "# node_index, constraint_x, constraint_y\n",
    "boundary_conditions = np.array([\n",
    "                            [0,1,0],\n",
    "                            [1,1,1]])\n",
    "\n",
    " # node_index, f_x, f_y\n",
    "forces = np.array([\n",
    "                [0, 100e3, 0], # reaction 1\n",
    "                [1, -200e3, 100e3], # reaction 2\n",
    "                [4, 100e3, -100e3]])  # applied force\n",
    "\n",
    "num_nodes = (np.max(connectivity) + 1)\n",
    "elements = []\n",
    "for i, node_indeces in enumerate(connectivity):\n",
    "    node_coordinates = nodal_coordinates[node_indeces]\n",
    "    element = TrussElement2D(node_indeces, node_coordinates, E,A,L, theta = angles_of_elements[i])\n",
    "    elements.append(element)\n",
    "\n",
    "system = TrussSystem2D(elements, num_nodes, forces, boundary_conditions)\n"
   ]
  },
  {
   "cell_type": "code",
   "execution_count": null,
   "metadata": {
    "colab": {
     "base_uri": "https://localhost:8080/"
    },
    "id": "a88CmL8ESU-g",
    "outputId": "5faa7500-cc91-4d8b-babf-1bb471d977b7"
   },
   "outputs": [
    {
     "data": {
      "text/plain": [
       "(array([    0.        ,     0.        ,     0.        ,     0.        ,\n",
       "         -319.04287139,  -957.12861416,   319.04287139, -1276.17148554,\n",
       "         -319.04287139, -2552.34297109]),\n",
       " array([ 0.00000000e+00, -1.60000000e+02, -2.26274170e+02,  1.60000000e+02,\n",
       "        -1.60000000e+02,  1.13686838e-13, -2.26274170e+02]))"
      ]
     },
     "execution_count": 379,
     "metadata": {},
     "output_type": "execute_result"
    }
   ],
   "source": [
    "solver = Solver(system)\n",
    "solver.solve()"
   ]
  },
  {
   "cell_type": "code",
   "execution_count": null,
   "metadata": {
    "colab": {
     "base_uri": "https://localhost:8080/",
     "height": 472
    },
    "id": "OdWCirLbLqHv",
    "outputId": "53b49785-ea0a-4fb5-b1b8-6ee415579a6d"
   },
   "outputs": [
    {
     "data": {
      "image/png": "[encoded data removed]",
      "text/plain": [
       "<Figure size 640x480 with 1 Axes>"
      ]
     },
     "metadata": {},
     "output_type": "display_data"
    }
   ],
   "source": [
    "plotter = Plotter(solver)\n",
    "plotter.plot_system()\n"
   ]
  },
  {
   "cell_type": "code",
   "execution_count": null,
   "metadata": {
    "id": "eu7aD-cTxLyh"
   },
   "outputs": [],
   "source": []
  }
 ],
 "metadata": {
  "colab": {
   "provenance": []
  },
  "kernelspec": {
   "display_name": "Python 3",
   "name": "python3"
  },
  "language_info": {
   "name": "python"
  }
 },
 "nbformat": 4,
 "nbformat_minor": 0
}
