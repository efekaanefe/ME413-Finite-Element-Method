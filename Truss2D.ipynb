{
  "cells": [
    {
      "cell_type": "code",
      "source": [
        "import numpy as np\n",
        "import matplotlib.pyplot as plt\n",
        "import pprint"
      ],
      "metadata": {
        "id": "BlJQ6l5EBRjB"
      },
      "execution_count": 1,
      "outputs": []
    },
    {
      "cell_type": "code",
      "source": [
        "\"\"\"\n",
        "TODOs:\n",
        "    solve for displacements of a 2D truss system where each truss has only one element\n",
        "\n",
        "    create TrussElement2D(node_indeces, E,A,L, f=[0,0,0,0], theta = 0)\n",
        "        - k_elem 4x4\n",
        "\n",
        "\n",
        "\"\"\""
      ],
      "metadata": {
        "colab": {
          "base_uri": "https://localhost:8080/",
          "height": 53
        },
        "id": "DnvREx5oBR0f",
        "outputId": "535faa11-a92c-4224-ff17-d809774ba53f"
      },
      "execution_count": 2,
      "outputs": [
        {
          "output_type": "execute_result",
          "data": {
            "text/plain": [
              "'\\nTODOs:\\n    solve for displacements of a 2D truss system where each truss has only one element\\n\\n    create TrussElement2D(node_indeces, E,A,L, f=[0,0,0,0], theta = 0)\\n        - k_elem 4x4\\n\\n\\n'"
            ],
            "application/vnd.google.colaboratory.intrinsic+json": {
              "type": "string"
            }
          },
          "metadata": {},
          "execution_count": 2
        }
      ]
    },
    {
      "cell_type": "code",
      "source": [
        "# class Node:\n",
        "#     def __init__(self, index):\n",
        "#         self.index = index\n",
        "#         self.coordinates = None\n",
        "\n",
        "# # TODO: Should I use node coordinates for a node or can i get"
      ],
      "metadata": {
        "id": "lBsCO0YGL6Gm"
      },
      "execution_count": 3,
      "outputs": []
    },
    {
      "cell_type": "code",
      "source": [
        "class TrussElement2D:\n",
        "    def  __init__(self, node_indeces, node_coordinates, E,A,L, distributed_load = 0, f_applied=[0,0,0,0], theta = 0, shape_function = \"linear\"):\n",
        "        self.node_indeces = node_indeces\n",
        "        self.node_coordinates = node_coordinates\n",
        "        self.E = E\n",
        "        self.A = A\n",
        "        self.L = L\n",
        "        self.q = distributed_load\n",
        "        self.f_applied = np.array(f_applied) # not necessary for current algorithm\n",
        "        self.theta = theta # from (right) to (up)\n",
        "        self.shape_function = shape_function\n",
        "\n",
        "        if self.shape_function != \"linear\":\n",
        "            raise NotImplementedError(\"Only linear shape functions are implemented\")\n",
        "        if self.q != 0:\n",
        "            raise NotImplementedError(\"Distributed loads are not implemented\")\n",
        "\n",
        "\n",
        "        # self.get_local_stiffness_matrix()\n",
        "        # self.get_global_stiffness_matrix()\n",
        "\n",
        "    def get_local_stiffness_matrix(self):\n",
        "        # returns the stiffness matrix for the element in local coordinates\n",
        "        k  = self.E*self.A/self.L\n",
        "        self.k_elem_local = k * np.array([[1,0,-1,0],[0,0,0,0],[-1,0,1,0],[0,0,0,0]])\n",
        "\n",
        "    def get_global_stiffness_matrix(self):\n",
        "        self.get_local_stiffness_matrix()\n",
        "        # returns the global stiffness matrix for the element in global coordinates\n",
        "        S = np.sin(np.deg2rad(self.theta))\n",
        "        C = np.cos(np.deg2rad(self.theta))\n",
        "        R = np.array([[C, S],\n",
        "                      [-S, C]])\n",
        "        T = np.array([[C,S,0,0],\n",
        "                      [-S,C,0,0],\n",
        "                      [0,0,C,S],\n",
        "                      [0,0,-S,C]])\n",
        "        self.K_elem_global = T.T @ self.k_elem_local @ T\n",
        "        return self.K_elem_global\n",
        "\n",
        "    def get_local_load_vector(self):\n",
        "        pass\n",
        "\n",
        "    def get_global_load_vector(self):\n",
        "        pass\n"
      ],
      "metadata": {
        "id": "Zs2W1bG9D4bA"
      },
      "execution_count": 113,
      "outputs": []
    },
    {
      "cell_type": "code",
      "source": [
        "class TrussSystem2D:\n",
        "    def __init__(self, elements, num_nodes, forces, boundary_conditions):\n",
        "        self.elements = elements\n",
        "        self.num_nodes = num_nodes\n",
        "        self.forces = forces\n",
        "        self.boundary_conditions = boundary_conditions\n",
        "\n",
        "    # def get_node_coordinates(self):\n",
        "    #     origin = [0,0]\n",
        "\n",
        "    #     for element in self.elements:\n",
        "    #         for node_index in element.node_indeces:\n",
        "    #             if node_index == 0:\n",
        "    #                 node_coordinates = origin\n",
        "\n"
      ],
      "metadata": {
        "id": "D9fH4rXJJkx4"
      },
      "execution_count": 110,
      "outputs": []
    },
    {
      "cell_type": "code",
      "source": [
        "class Solver:\n",
        "    def __init__(self, system):\n",
        "        self.system = system\n",
        "\n",
        "    def solve(self):\n",
        "        self.assemble_global_matrices()\n",
        "        self.apply_boundary_conditions()\n",
        "\n",
        "    def assemble_global_matrices(self):\n",
        "        # Assemble global stiffness\n",
        "        self.K_global = np.zeros((self.system.num_nodes*2, self.system.num_nodes*2)) # multiply by 2 cause for a node 2 is the DoF hence it's 2D\n",
        "\n",
        "        for element in self.system.elements:\n",
        "            K_elem = element.get_global_stiffness_matrix()\n",
        "            node_per_element = len(self.system.elements[0].node_indeces) # 2 for linear\n",
        "\n",
        "            # Get the global DOF indices for the element's nodes\n",
        "            global_dof_indices = []\n",
        "            for node_index in element.node_indeces:\n",
        "                global_dof_indices.extend([2 * node_index, 2 * node_index + 1])  # DOFs: x, y\n",
        "\n",
        "            for i in range(len(global_dof_indices)):\n",
        "                for j in range(len(global_dof_indices)):\n",
        "                    self.K_global[global_dof_indices[i], global_dof_indices[j]] += K_elem[i, j]\n",
        "\n",
        "        # Assemble load vector\n",
        "        self.F_global = np.zeros((self.system.num_nodes*2))\n",
        "        for node_index, f_x, f_y in self.system.forces:\n",
        "            global_dof_index = int(2 * node_index)\n",
        "            self.F_global[global_dof_index] += f_x\n",
        "            self.F_global[global_dof_index + 1] += f_y\n",
        "\n",
        "        return self.K_global, self.F_global\n",
        "\n",
        "    def apply_boundary_conditions(self):\n",
        "        known_global_indeces = []\n",
        "        for node_index, constraint_x, constraint_y in self.system.boundary_conditions:\n",
        "            global_dof_index = int(2 * node_index)\n",
        "            if constraint_x == 1:\n",
        "                known_global_indeces.append(global_dof_index)\n",
        "            if constraint_y == 1:\n",
        "                known_global_indeces.append(global_dof_index + 1)\n",
        "\n",
        "        # get the matrix while remowing the indeces in known global indeces\n",
        "        self.Kuu = np.delete(np.delete(self.K_global, known_global_indeces, axis=0), known_global_indeces, axis=1)\n",
        "        self.Fuu = np.delete(self.F_global, known_global_indeces, axis=0)\n",
        "\n",
        "        return self.Kuu, self.Fuu\n",
        "\n",
        "    def solve_displacements(self):\n",
        "        pass\n",
        "\n",
        "    def calculate_stresses(self):\n",
        "        pass\n"
      ],
      "metadata": {
        "id": "_0HgKe38uQis"
      },
      "execution_count": 140,
      "outputs": []
    },
    {
      "cell_type": "code",
      "source": [
        "class Plotter:\n",
        "    def __init__(self, system):\n",
        "        self.system = system\n",
        "\n",
        "    def plot_system(self):\n",
        "        \"\"\"\n",
        "        plots the truss system\n",
        "        \"\"\"\n",
        "        for element in self.system.elements:\n",
        "            pos1, pos2 = element.node_coordinates\n",
        "            x1, y1 = pos1\n",
        "            x2, y2 = pos2\n",
        "            plt.plot([x1,x2], [y1,y2])\n",
        "        plt.show()\n"
      ],
      "metadata": {
        "id": "k3ON7JEJLNtp"
      },
      "execution_count": 141,
      "outputs": []
    },
    {
      "cell_type": "code",
      "source": [
        "E = 100*10^3; A = 625; L=2000; # for each truss element, [units: N, mm, MPa]\n",
        "\n",
        "connectivity = np.array([[0,1], [0,2], [1,2], [1,3], [2,3], [2,4], [3,4]])\n",
        "nodal_coordinates = np.array([[0,0], [0,L], [L,0], [L,L], [2*L,0]])\n",
        "angles_of_elements = np.array([90,0,135,0,90,0,135])\n",
        "\n",
        "# node_index, constraint_x, constraint_y\n",
        "boundary_conditions = np.array([\n",
        "                            [0,1,0],\n",
        "                            [1,1,1]])\n",
        "\n",
        " # node_index, f_x, f_y\n",
        "forces = np.array([\n",
        "                [0, 100e3, 0], # reaction 1\n",
        "                [1, -200e3, 100e3], # reaction 2\n",
        "                [4, 10e3, -10e3]])  # applied force\n",
        "\n",
        "num_nodes = (np.max(connectivity) + 1)\n",
        "elements = []\n",
        "for i, node_indeces in enumerate(connectivity):\n",
        "    node_coordinates = nodal_coordinates[node_indeces]\n",
        "    element = TrussElement2D(node_indeces, node_coordinates, E,A,L, f_applied=[0,0,0,0], theta = angles_of_elements[i])\n",
        "    elements.append(element)\n",
        "\n",
        "system = TrussSystem2D(elements, num_nodes, forces, boundary_conditions)\n"
      ],
      "metadata": {
        "id": "vyXSTtA_RCO-"
      },
      "execution_count": 142,
      "outputs": []
    },
    {
      "cell_type": "code",
      "source": [
        "solver = Solver(system)\n",
        "solver.assemble_global_matrices()\n",
        "Kuu, Fuu = solver.apply_boundary_conditions()\n",
        "Kuu.shape, Fuu.shape"
      ],
      "metadata": {
        "id": "ACiAod_PHyc4",
        "outputId": "25078dad-8e83-48d5-dd34-994a57a0ebd5",
        "colab": {
          "base_uri": "https://localhost:8080/"
        }
      },
      "execution_count": 144,
      "outputs": [
        {
          "output_type": "execute_result",
          "data": {
            "text/plain": [
              "((7, 7), (7,))"
            ]
          },
          "metadata": {},
          "execution_count": 144
        }
      ]
    },
    {
      "cell_type": "code",
      "source": [
        "solver = Solver(system)\n",
        "solver.solve()"
      ],
      "metadata": {
        "id": "fo2I5phDxX-i"
      },
      "execution_count": 115,
      "outputs": []
    },
    {
      "cell_type": "code",
      "source": [
        "plotter = Plotter(system)\n",
        "plotter.plot_system()\n"
      ],
      "metadata": {
        "colab": {
          "base_uri": "https://localhost:8080/",
          "height": 430
        },
        "id": "OdWCirLbLqHv",
        "outputId": "72dee9d9-ef96-4e3a-d191-88f9ff10b8ae"
      },
      "execution_count": 39,
      "outputs": [
        {
          "output_type": "display_data",
          "data": {
            "text/plain": [
              "<Figure size 640x480 with 1 Axes>"
            ],
            "image/png": "[encoded data removed]"
          },
          "metadata": {}
        }
      ]
    },
    {
      "cell_type": "code",
      "source": [],
      "metadata": {
        "id": "ZQ-D17SMLsrs",
        "colab": {
          "base_uri": "https://localhost:8080/",
          "height": 347
        },
        "outputId": "473d77dc-993a-4748-c39d-ebc68f8e5be2"
      },
      "execution_count": 30,
      "outputs": [
        {
          "output_type": "error",
          "ename": "AttributeError",
          "evalue": "'TrussElement2D' object has no attribute 'nodes'",
          "traceback": [
            "\u001b[0;31m---------------------------------------------------------------------------\u001b[0m",
            "\u001b[0;31mAttributeError\u001b[0m                            Traceback (most recent call last)",
            "\u001b[0;32m<ipython-input-30-0112f86fc38b>\u001b[0m in \u001b[0;36m<cell line: 2>\u001b[0;34m()\u001b[0m\n\u001b[1;32m      1\u001b[0m \u001b[0msolver\u001b[0m \u001b[0;34m=\u001b[0m \u001b[0mSolver\u001b[0m\u001b[0;34m(\u001b[0m\u001b[0msystem\u001b[0m\u001b[0;34m)\u001b[0m\u001b[0;34m\u001b[0m\u001b[0;34m\u001b[0m\u001b[0m\n\u001b[0;32m----> 2\u001b[0;31m \u001b[0msolver\u001b[0m\u001b[0;34m.\u001b[0m\u001b[0msolve\u001b[0m\u001b[0;34m(\u001b[0m\u001b[0;34m)\u001b[0m\u001b[0;34m\u001b[0m\u001b[0;34m\u001b[0m\u001b[0m\n\u001b[0m\u001b[1;32m      3\u001b[0m \u001b[0;34m\u001b[0m\u001b[0m\n\u001b[1;32m      4\u001b[0m \u001b[0msolver\u001b[0m\u001b[0;34m.\u001b[0m\u001b[0mK_global\u001b[0m\u001b[0;34m\u001b[0m\u001b[0;34m\u001b[0m\u001b[0m\n",
            "\u001b[0;32m<ipython-input-28-9d72202e1e84>\u001b[0m in \u001b[0;36msolve\u001b[0;34m(self)\u001b[0m\n\u001b[1;32m      4\u001b[0m \u001b[0;34m\u001b[0m\u001b[0m\n\u001b[1;32m      5\u001b[0m     \u001b[0;32mdef\u001b[0m \u001b[0msolve\u001b[0m\u001b[0;34m(\u001b[0m\u001b[0mself\u001b[0m\u001b[0;34m)\u001b[0m\u001b[0;34m:\u001b[0m\u001b[0;34m\u001b[0m\u001b[0;34m\u001b[0m\u001b[0m\n\u001b[0;32m----> 6\u001b[0;31m         \u001b[0mself\u001b[0m\u001b[0;34m.\u001b[0m\u001b[0massemble_global_matrices\u001b[0m\u001b[0;34m(\u001b[0m\u001b[0;34m)\u001b[0m\u001b[0;34m\u001b[0m\u001b[0;34m\u001b[0m\u001b[0m\n\u001b[0m\u001b[1;32m      7\u001b[0m \u001b[0;34m\u001b[0m\u001b[0m\n\u001b[1;32m      8\u001b[0m     \u001b[0;32mdef\u001b[0m \u001b[0massemble_global_matrices\u001b[0m\u001b[0;34m(\u001b[0m\u001b[0mself\u001b[0m\u001b[0;34m)\u001b[0m\u001b[0;34m:\u001b[0m\u001b[0;34m\u001b[0m\u001b[0;34m\u001b[0m\u001b[0m\n",
            "\u001b[0;32m<ipython-input-28-9d72202e1e84>\u001b[0m in \u001b[0;36massemble_global_matrices\u001b[0;34m(self)\u001b[0m\n\u001b[1;32m     18\u001b[0m                 \u001b[0;32mfor\u001b[0m \u001b[0mj\u001b[0m \u001b[0;32min\u001b[0m \u001b[0mrange\u001b[0m\u001b[0;34m(\u001b[0m\u001b[0mnode_per_element\u001b[0m\u001b[0;34m)\u001b[0m\u001b[0;34m:\u001b[0m\u001b[0;34m\u001b[0m\u001b[0;34m\u001b[0m\u001b[0m\n\u001b[1;32m     19\u001b[0m                     \u001b[0;32mfor\u001b[0m \u001b[0mk\u001b[0m \u001b[0;32min\u001b[0m \u001b[0mrange\u001b[0m\u001b[0;34m(\u001b[0m\u001b[0mnode_per_element\u001b[0m\u001b[0;34m)\u001b[0m\u001b[0;34m:\u001b[0m\u001b[0;34m\u001b[0m\u001b[0;34m\u001b[0m\u001b[0m\n\u001b[0;32m---> 20\u001b[0;31m                         \u001b[0mself\u001b[0m\u001b[0;34m.\u001b[0m\u001b[0mK_global\u001b[0m\u001b[0;34m[\u001b[0m\u001b[0melement\u001b[0m\u001b[0;34m.\u001b[0m\u001b[0mnodes\u001b[0m\u001b[0;34m[\u001b[0m\u001b[0mj\u001b[0m\u001b[0;34m]\u001b[0m\u001b[0;34m,\u001b[0m \u001b[0melement\u001b[0m\u001b[0;34m.\u001b[0m\u001b[0mnodes\u001b[0m\u001b[0;34m[\u001b[0m\u001b[0mk\u001b[0m\u001b[0;34m]\u001b[0m\u001b[0;34m]\u001b[0m \u001b[0;34m+=\u001b[0m \u001b[0mk_element\u001b[0m\u001b[0;34m[\u001b[0m\u001b[0mj\u001b[0m\u001b[0;34m,\u001b[0m \u001b[0mk\u001b[0m\u001b[0;34m]\u001b[0m\u001b[0;34m\u001b[0m\u001b[0;34m\u001b[0m\u001b[0m\n\u001b[0m\u001b[1;32m     21\u001b[0m \u001b[0;34m\u001b[0m\u001b[0m\n\u001b[1;32m     22\u001b[0m     \u001b[0;32mdef\u001b[0m \u001b[0mapply_boundary_conditions\u001b[0m\u001b[0;34m(\u001b[0m\u001b[0mself\u001b[0m\u001b[0;34m)\u001b[0m\u001b[0;34m:\u001b[0m\u001b[0;34m\u001b[0m\u001b[0;34m\u001b[0m\u001b[0m\n",
            "\u001b[0;31mAttributeError\u001b[0m: 'TrussElement2D' object has no attribute 'nodes'"
          ]
        }
      ]
    },
    {
      "cell_type": "code",
      "source": [],
      "metadata": {
        "id": "eu7aD-cTxLyh"
      },
      "execution_count": null,
      "outputs": []
    }
  ],
  "metadata": {
    "language_info": {
      "name": "python"
    },
    "colab": {
      "provenance": []
    },
    "kernelspec": {
      "name": "python3",
      "display_name": "Python 3"
    }
  },
  "nbformat": 4,
  "nbformat_minor": 0
}