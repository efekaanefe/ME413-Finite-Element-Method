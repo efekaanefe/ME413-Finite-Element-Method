{
  "cells": [
    {
      "cell_type": "code",
      "source": [
        "import numpy as np\n",
        "import matplotlib.pyplot as plt\n",
        "import pprint"
      ],
      "metadata": {
        "id": "BlJQ6l5EBRjB"
      },
      "execution_count": 12,
      "outputs": []
    },
    {
      "cell_type": "code",
      "source": [
        "\"\"\"\n",
        "TODOs:\n",
        "    solve for displacements of a 2D truss system where each truss has only one element\n",
        "\n",
        "    create TrussElement2D(node_indeces, E,A,L, f=[0,0,0,0], theta = 0)\n",
        "        - k_elem 4x4\n",
        "\n",
        "\n",
        "\"\"\""
      ],
      "metadata": {
        "colab": {
          "base_uri": "https://localhost:8080/",
          "height": 53
        },
        "id": "DnvREx5oBR0f",
        "outputId": "44dea32f-e3ca-4633-c21a-37d0bbd895b0"
      },
      "execution_count": 2,
      "outputs": [
        {
          "output_type": "execute_result",
          "data": {
            "text/plain": [
              "'\\nTODOs:\\n    solve for displacements of a 2D truss system where each truss has only one element\\n    \\n    create TrussElement2D(node_indeces, E,A,L, f=[0,0,0,0], theta = 0)\\n        - k_elem 4x4\\n\\n\\n'"
            ],
            "application/vnd.google.colaboratory.intrinsic+json": {
              "type": "string"
            }
          },
          "metadata": {},
          "execution_count": 2
        }
      ]
    },
    {
      "cell_type": "code",
      "source": [
        "class Node:\n",
        "    def __init__(self, index, coordinates):\n",
        "        self.index = index\n",
        "        self.coordinates = coordinates"
      ],
      "metadata": {
        "id": "lBsCO0YGL6Gm"
      },
      "execution_count": 10,
      "outputs": []
    },
    {
      "cell_type": "code",
      "source": [
        "class TrussElement2D:\n",
        "    def  __init__(self, nodes_indeces, E,A,L, distributed_load = 0, f_applied=[0,0,0,0], theta = 0, shape_function = \"linear\"):\n",
        "        self.nodes_indeces = nodes_indeces\n",
        "        self.E = E\n",
        "        self.A = A\n",
        "        self.L = L\n",
        "        self.q = distributed_load\n",
        "        self.f_applied = f_applied\n",
        "        self.theta = theta # from (right) to (up)\n",
        "        self.shape_function = shape_function\n",
        "\n",
        "        self.get_local_stiffness_matrix()\n",
        "        self.get_global_stiffness_matrix()\n",
        "\n",
        "    def get_local_stiffness_matrix(self):\n",
        "        \"\"\"\n",
        "        returns the stiffness matrix for the element in local coordinates\n",
        "        \"\"\"\n",
        "\n",
        "        if self.shape_function == \"linear\":\n",
        "            k  = self.E*self.A/self.L\n",
        "            self.k_elem_local = k * np.array([[1,0,-1,0],[0,0,0,0],[-1,0,1,0],[0,0,0,0]])\n",
        "\n",
        "    def get_global_stiffness_matrix(self):\n",
        "        \"\"\"\n",
        "        returns the global stiffness matrix for the element in global coordinates\n",
        "        \"\"\"\n",
        "        S = np.sin(np.deg2rad(self.theta))\n",
        "        C = np.cos(np.deg2rad(self.theta))\n",
        "\n",
        "        R = np.array([[C, S],\n",
        "                      [-S, C]])\n",
        "\n",
        "        T = np.array([[C,S,0,0],\n",
        "                      [-S,C,0,0],\n",
        "                      [0,0,C,S],\n",
        "                      [0,0,-S,C]])\n",
        "\n",
        "        self.K_elem_global = T.T @ self.k_elem_local @ T\n",
        "        return self.K_elem_global"
      ],
      "metadata": {
        "id": "Zs2W1bG9D4bA"
      },
      "execution_count": 9,
      "outputs": []
    },
    {
      "cell_type": "code",
      "source": [
        "class TrussSystem2D:\n",
        "    def __init__(self, elements):\n",
        "        self.elements = elements"
      ],
      "metadata": {
        "id": "D9fH4rXJJkx4"
      },
      "execution_count": 5,
      "outputs": []
    },
    {
      "cell_type": "code",
      "source": [
        "class Plotter:\n",
        "    def __init__(self, system):\n",
        "        self.system = system\n",
        "\n",
        "    def plot_system(self):\n",
        "        \"\"\"\n",
        "        plots the truss system\n",
        "        \"\"\"\n",
        "        for element in self.system.elements:\n",
        "            node1, node2 = element.node_indeces\n",
        "\n",
        "\n",
        "\n",
        "            plt.plot([x1,x2], [y1,y2])\n",
        "        plt.show()\n"
      ],
      "metadata": {
        "id": "k3ON7JEJLNtp"
      },
      "execution_count": 6,
      "outputs": []
    },
    {
      "cell_type": "code",
      "source": [
        "E = 100*10^3; A = 625; L=2000; # for each truss element, [units: N, mm, MPa]\n",
        "\n",
        "Node1 =\n",
        "\n",
        "element1 = TrussElement2D([0,1], E,A,L, f_applied=[0,0,0,0], theta = 90)\n",
        "element2 = TrussElement2D([0,2], E,A,L, f_applied=[0,0,0,0], theta = 0)\n",
        "element3 = TrussElement2D([1,2], E,A,L, f_applied=[0,0,0,0], theta = 135)\n",
        "element4 = TrussElement2D([1,3], E,A,L, f_applied=[0,0,0,0], theta = 0)\n",
        "element5 = TrussElement2D([2,3], E,A,L, f_applied=[0,0,0,0], theta = 90)\n",
        "element6 = TrussElement2D([2,4], E,A,L, f_applied=[0,0,0,0], theta = 0)\n",
        "element7 = TrussElement2D([3,4], E,A,L, f_applied=[0,0,0,0], theta = 135)\n",
        "\n",
        "elements = [element1, element2, element3, element4, element5, element6, element7]\n",
        "\n",
        "system = TrussSystem2D(elements)\n",
        "plotter = Plotter(system)\n"
      ],
      "metadata": {
        "id": "cPlAxjJNJtHI"
      },
      "execution_count": 7,
      "outputs": []
    },
    {
      "cell_type": "code",
      "source": [
        "for element in system.elements:\n",
        "    pprint.pp(element.K_elem_global)"
      ],
      "metadata": {
        "id": "bqzCSkyiOhTW",
        "outputId": "ebd4cabf-c522-4b4b-d46c-c7ae1e6432cd",
        "colab": {
          "base_uri": "https://localhost:8080/"
        }
      },
      "execution_count": 15,
      "outputs": [
        {
          "output_type": "stream",
          "name": "stdout",
          "text": [
            "array([[ 1.17520239e-30,  1.91925116e-14, -1.17520239e-30,\n",
            "        -1.91925116e-14],\n",
            "       [ 1.91925116e-14,  3.13437500e+02, -1.91925116e-14,\n",
            "        -3.13437500e+02],\n",
            "       [-1.17520239e-30, -1.91925116e-14,  1.17520239e-30,\n",
            "         1.91925116e-14],\n",
            "       [-1.91925116e-14, -3.13437500e+02,  1.91925116e-14,\n",
            "         3.13437500e+02]])\n",
            "array([[ 313.4375,    0.    , -313.4375,    0.    ],\n",
            "       [   0.    ,    0.    ,    0.    ,    0.    ],\n",
            "       [-313.4375,    0.    ,  313.4375,    0.    ],\n",
            "       [   0.    ,    0.    ,    0.    ,    0.    ]])\n",
            "array([[ 156.71875, -156.71875, -156.71875,  156.71875],\n",
            "       [-156.71875,  156.71875,  156.71875, -156.71875],\n",
            "       [-156.71875,  156.71875,  156.71875, -156.71875],\n",
            "       [ 156.71875, -156.71875, -156.71875,  156.71875]])\n",
            "array([[ 313.4375,    0.    , -313.4375,    0.    ],\n",
            "       [   0.    ,    0.    ,    0.    ,    0.    ],\n",
            "       [-313.4375,    0.    ,  313.4375,    0.    ],\n",
            "       [   0.    ,    0.    ,    0.    ,    0.    ]])\n",
            "array([[ 1.17520239e-30,  1.91925116e-14, -1.17520239e-30,\n",
            "        -1.91925116e-14],\n",
            "       [ 1.91925116e-14,  3.13437500e+02, -1.91925116e-14,\n",
            "        -3.13437500e+02],\n",
            "       [-1.17520239e-30, -1.91925116e-14,  1.17520239e-30,\n",
            "         1.91925116e-14],\n",
            "       [-1.91925116e-14, -3.13437500e+02,  1.91925116e-14,\n",
            "         3.13437500e+02]])\n",
            "array([[ 313.4375,    0.    , -313.4375,    0.    ],\n",
            "       [   0.    ,    0.    ,    0.    ,    0.    ],\n",
            "       [-313.4375,    0.    ,  313.4375,    0.    ],\n",
            "       [   0.    ,    0.    ,    0.    ,    0.    ]])\n",
            "array([[ 156.71875, -156.71875, -156.71875,  156.71875],\n",
            "       [-156.71875,  156.71875,  156.71875, -156.71875],\n",
            "       [-156.71875,  156.71875,  156.71875, -156.71875],\n",
            "       [ 156.71875, -156.71875, -156.71875,  156.71875]])\n"
          ]
        }
      ]
    },
    {
      "cell_type": "code",
      "source": [
        "plotter.plot_system()"
      ],
      "metadata": {
        "id": "OdWCirLbLqHv",
        "outputId": "aa64ca7c-358f-4994-ad9d-cb5a92a3cdef",
        "colab": {
          "base_uri": "https://localhost:8080/",
          "height": 269
        }
      },
      "execution_count": 8,
      "outputs": [
        {
          "output_type": "error",
          "ename": "AttributeError",
          "evalue": "'TrussElement2D' object has no attribute 'node_indeces'",
          "traceback": [
            "\u001b[0;31m---------------------------------------------------------------------------\u001b[0m",
            "\u001b[0;31mAttributeError\u001b[0m                            Traceback (most recent call last)",
            "\u001b[0;32m<ipython-input-8-c89f358646b4>\u001b[0m in \u001b[0;36m<cell line: 1>\u001b[0;34m()\u001b[0m\n\u001b[0;32m----> 1\u001b[0;31m \u001b[0mplotter\u001b[0m\u001b[0;34m.\u001b[0m\u001b[0mplot_system\u001b[0m\u001b[0;34m(\u001b[0m\u001b[0;34m)\u001b[0m\u001b[0;34m\u001b[0m\u001b[0;34m\u001b[0m\u001b[0m\n\u001b[0m",
            "\u001b[0;32m<ipython-input-6-fbd6b1d4ebc1>\u001b[0m in \u001b[0;36mplot_system\u001b[0;34m(self)\u001b[0m\n\u001b[1;32m      8\u001b[0m         \"\"\"\n\u001b[1;32m      9\u001b[0m         \u001b[0;32mfor\u001b[0m \u001b[0melement\u001b[0m \u001b[0;32min\u001b[0m \u001b[0mself\u001b[0m\u001b[0;34m.\u001b[0m\u001b[0msystem\u001b[0m\u001b[0;34m.\u001b[0m\u001b[0melements\u001b[0m\u001b[0;34m:\u001b[0m\u001b[0;34m\u001b[0m\u001b[0;34m\u001b[0m\u001b[0m\n\u001b[0;32m---> 10\u001b[0;31m             \u001b[0mnode1\u001b[0m\u001b[0;34m,\u001b[0m \u001b[0mnode2\u001b[0m \u001b[0;34m=\u001b[0m \u001b[0melement\u001b[0m\u001b[0;34m.\u001b[0m\u001b[0mnode_indeces\u001b[0m\u001b[0;34m\u001b[0m\u001b[0;34m\u001b[0m\u001b[0m\n\u001b[0m\u001b[1;32m     11\u001b[0m \u001b[0;34m\u001b[0m\u001b[0m\n\u001b[1;32m     12\u001b[0m \u001b[0;34m\u001b[0m\u001b[0m\n",
            "\u001b[0;31mAttributeError\u001b[0m: 'TrussElement2D' object has no attribute 'node_indeces'"
          ]
        }
      ]
    },
    {
      "cell_type": "code",
      "source": [
        "element1.nodes"
      ],
      "metadata": {
        "id": "uJmK6ncxM-OB"
      },
      "execution_count": null,
      "outputs": []
    },
    {
      "cell_type": "code",
      "source": [],
      "metadata": {
        "id": "ZQ-D17SMLsrs"
      },
      "execution_count": null,
      "outputs": []
    }
  ],
  "metadata": {
    "language_info": {
      "name": "python"
    },
    "colab": {
      "provenance": []
    },
    "kernelspec": {
      "name": "python3",
      "display_name": "Python 3"
    }
  },
  "nbformat": 4,
  "nbformat_minor": 0
}