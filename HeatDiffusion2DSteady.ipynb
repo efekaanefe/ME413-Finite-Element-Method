{
  "cells": [
    {
      "cell_type": "code",
      "execution_count": 1,
      "metadata": {
        "colab": {
          "base_uri": "https://localhost:8080/"
        },
        "id": "umJ4TVh_KADS",
        "outputId": "ff9e0601-0555-4b59-a02e-9a585cdce5ea"
      },
      "outputs": [
        {
          "output_type": "stream",
          "name": "stdout",
          "text": [
            "Collecting icecream\n",
            "  Downloading icecream-2.1.3-py2.py3-none-any.whl.metadata (1.4 kB)\n",
            "Collecting colorama>=0.3.9 (from icecream)\n",
            "  Downloading colorama-0.4.6-py2.py3-none-any.whl.metadata (17 kB)\n",
            "Requirement already satisfied: pygments>=2.2.0 in /usr/local/lib/python3.10/dist-packages (from icecream) (2.18.0)\n",
            "Collecting executing>=0.3.1 (from icecream)\n",
            "  Downloading executing-2.1.0-py2.py3-none-any.whl.metadata (8.9 kB)\n",
            "Collecting asttokens>=2.0.1 (from icecream)\n",
            "  Downloading asttokens-3.0.0-py3-none-any.whl.metadata (4.7 kB)\n",
            "Downloading icecream-2.1.3-py2.py3-none-any.whl (8.4 kB)\n",
            "Downloading asttokens-3.0.0-py3-none-any.whl (26 kB)\n",
            "Downloading colorama-0.4.6-py2.py3-none-any.whl (25 kB)\n",
            "Downloading executing-2.1.0-py2.py3-none-any.whl (25 kB)\n",
            "Installing collected packages: executing, colorama, asttokens, icecream\n",
            "Successfully installed asttokens-3.0.0 colorama-0.4.6 executing-2.1.0 icecream-2.1.3\n"
          ]
        }
      ],
      "source": [
        "%pip install icecream"
      ]
    },
    {
      "cell_type": "code",
      "execution_count": 2,
      "metadata": {
        "id": "DXaPYJZjKADS"
      },
      "outputs": [],
      "source": [
        "import numpy as np\n",
        "import matplotlib.pyplot as plt\n",
        "from icecream import ic\n",
        "print=ic\n",
        "\n",
        "# for von-misses stresses\n",
        "import matplotlib.patches as patches\n",
        "import matplotlib.colors as mcolors\n",
        "import matplotlib.cm as cm\n",
        "from matplotlib import colormaps\n"
      ]
    },
    {
      "cell_type": "markdown",
      "metadata": {
        "id": "y8iYGx7i02fr"
      },
      "source": [
        "## ELEMENTS, SYSTEM, SOLVER and PLOTTER"
      ]
    },
    {
      "cell_type": "code",
      "execution_count": 34,
      "metadata": {
        "id": "P-15_pXagzz-"
      },
      "outputs": [],
      "source": [
        "class HeatElement2D:\n",
        "    def  __init__(self, node_indeces, node_coordinates):\n",
        "        self.node_indeces = node_indeces\n",
        "        self.node_coordinates = node_coordinates\n",
        "        self.difussion_coef = 1\n",
        "\n",
        "        self.K_elem_global = self.get_local_stiffness_matrix() # local isn't actually local, it is in parametric square space in range [-1, 1] for both x and y\n",
        "\n",
        "    def get_global_stiffness_matrix(self):\n",
        "        return self.get_local_stiffness_matrix()\n",
        "\n",
        "    def get_local_stiffness_matrix(self):\n",
        "        self.k_elem_local = np.zeros([len(self.node_indeces), len(self.node_indeces)]) # 4x4\n",
        "        self.gauss_quadrature_points = [\n",
        "            [-1/np.sqrt(3), -1/np.sqrt(3)],\n",
        "            [+1/np.sqrt(3), -1/np.sqrt(3)],\n",
        "            [+1/np.sqrt(3), +1/np.sqrt(3)],\n",
        "            [-1/np.sqrt(3), +1/np.sqrt(3)],\n",
        "            ]\n",
        "        self.gauss_quadrature_weights = [1,1,1,1]\n",
        "\n",
        "        for i, (ksi1_g, ksi2_g) in enumerate(self.gauss_quadrature_points):\n",
        "            B = self.get_B(ksi1_g, ksi2_g)\n",
        "            wk = self.gauss_quadrature_weights[i]\n",
        "            j = np.linalg.det(self.get_jacobian(ksi1_g, ksi2_g))\n",
        "            self.k_elem_local += B.T @ B * self.difussion_coef * j * wk\n",
        "\n",
        "        return self.k_elem_local\n",
        "\n",
        "    def get_B(self, ksi1_g, ksi2_g):\n",
        "        J = self.get_jacobian(ksi1_g, ksi2_g)\n",
        "        J_inv = np.linalg.inv(J)\n",
        "        J_inv[J_inv == 0] = 1e-12\n",
        "\n",
        "        # B_{parameter_index}_{shape_function}\n",
        "        B11 = dN1_ksi1(ksi1_g, ksi2_g) * J_inv[0][0] + dN1_ksi2(ksi1_g, ksi2_g) * J_inv[1][0]\n",
        "        B12 = dN2_ksi1(ksi1_g, ksi2_g) * J_inv[0][0] + dN2_ksi2(ksi1_g, ksi2_g) * J_inv[1][0]\n",
        "        B13 = dN3_ksi1(ksi1_g, ksi2_g) * J_inv[0][0] + dN3_ksi2(ksi1_g, ksi2_g) * J_inv[1][0]\n",
        "        B14 = dN4_ksi1(ksi1_g, ksi2_g) * J_inv[0][0] + dN4_ksi2(ksi1_g, ksi2_g) * J_inv[1][0]\n",
        "\n",
        "        B21 = dN1_ksi1(ksi1_g, ksi2_g) * J_inv[0][1] + dN1_ksi2(ksi1_g, ksi2_g) * J_inv[1][1]\n",
        "        B22 = dN2_ksi1(ksi1_g, ksi2_g) * J_inv[0][1] + dN2_ksi2(ksi1_g, ksi2_g) * J_inv[1][1]\n",
        "        B23 = dN3_ksi1(ksi1_g, ksi2_g) * J_inv[0][1] + dN3_ksi2(ksi1_g, ksi2_g) * J_inv[1][1]\n",
        "        B24 = dN4_ksi1(ksi1_g, ksi2_g) * J_inv[0][1] + dN4_ksi2(ksi1_g, ksi2_g) * J_inv[1][1]\n",
        "\n",
        "        B = np.array([ # 2x4\n",
        "            [B11, B12, B13, B14],\n",
        "            [B21, B22, B23, B24],\n",
        "        ])\n",
        "\n",
        "        return B\n",
        "\n",
        "\n",
        "    def get_jacobian(self, ksi1, ksi2):\n",
        "        XY = self.node_coordinates\n",
        "\n",
        "        X = XY[:,0]; Y = XY[:,1]\n",
        "\n",
        "        J11 = dN1_ksi1(ksi1, ksi2) * X[0] + dN2_ksi1(ksi1, ksi2) * X[1] + dN3_ksi1(ksi1, ksi2) * X[2] + dN4_ksi1(ksi1, ksi2) * X[3]\n",
        "        J12 = dN1_ksi2(ksi1, ksi2) * X[0] + dN2_ksi2(ksi1, ksi2) * X[1] + dN3_ksi2(ksi1, ksi2) * X[2] + dN4_ksi2(ksi1, ksi2) * X[3]\n",
        "        J21 = dN1_ksi1(ksi1, ksi2) * Y[0] + dN2_ksi1(ksi1, ksi2) * Y[1] + dN3_ksi1(ksi1, ksi2) * Y[2] + dN4_ksi1(ksi1, ksi2) * Y[3]\n",
        "        J22 = dN1_ksi2(ksi1, ksi2) * Y[0] + dN2_ksi2(ksi1, ksi2) * Y[1] + dN3_ksi2(ksi1, ksi2) * Y[2] + dN4_ksi2(ksi1, ksi2) * Y[3]\n",
        "\n",
        "        self.J = np.array([[J11, J12], [J21, J22]])\n",
        "        return self.J\n",
        "\n",
        "## utils\n",
        "# shape functions\n",
        "def N1(ksi1, ksi2): return 1/4 * (1-ksi1)*(1-ksi2)\n",
        "def N2(ksi1, ksi2): return 1/4 * (1+ksi1)*(1-ksi2)\n",
        "def N3(ksi1, ksi2): return 1/4 * (1+ksi1)*(1+ksi2)\n",
        "def N4(ksi1, ksi2): return 1/4 * (1-ksi1)*(1+ksi2)\n",
        "\n",
        "# derivatives of shape functions\n",
        "def dN1_ksi1(ksi1, ksi2): return -1/4 * (1-ksi2)\n",
        "def dN1_ksi2(ksi1, ksi2): return -1/4 * (1-ksi1)\n",
        "def dN2_ksi1(ksi1, ksi2): return 1/4 * (1-ksi2)\n",
        "def dN2_ksi2(ksi1, ksi2): return -1/4 * (1+ksi1)\n",
        "def dN3_ksi1(ksi1, ksi2): return 1/4 * (1+ksi2)\n",
        "def dN3_ksi2(ksi1, ksi2): return 1/4 * (1+ksi1)\n",
        "def dN4_ksi1(ksi1, ksi2): return -1/4 * (1+ksi2)\n",
        "def dN4_ksi2(ksi1, ksi2): return 1/4 * (1-ksi1)\n"
      ]
    },
    {
      "cell_type": "code",
      "execution_count": 5,
      "metadata": {
        "id": "kEvom0TKqhqD"
      },
      "outputs": [],
      "source": [
        "class HeatSystem2D:\n",
        "    def __init__(self, elements, num_nodes, forces, boundary_conditions):\n",
        "        self.elements = elements\n",
        "        self.num_nodes = num_nodes\n",
        "        self.forces = forces\n",
        "        self.boundary_conditions = boundary_conditions"
      ]
    },
    {
      "cell_type": "code",
      "execution_count": 43,
      "metadata": {
        "id": "D952CxYuqi9L"
      },
      "outputs": [],
      "source": [
        "class Solver:\n",
        "    def __init__(self, system):\n",
        "        self.system = system\n",
        "\n",
        "    def solve(self):\n",
        "        K_global, F_global = self.assemble_global_matrices()\n",
        "        Kuu, Fu = self.apply_boundary_conditions()\n",
        "        displacements = self.solve_displacements()\n",
        "        reaction_forces = self.get_reaction_forces()\n",
        "        strains, stresses = self.calculate_loads()\n",
        "\n",
        "        # return self.displacements, self.loads\n",
        "\n",
        "    def assemble_global_matrices(self):\n",
        "        # Assemble global stiffness\n",
        "        self.K_global = np.zeros((self.system.num_nodes, self.system.num_nodes))\n",
        "\n",
        "        for element in self.system.elements:\n",
        "            K_elem = element.get_global_stiffness_matrix()\n",
        "            node_per_element = len(self.system.elements[0].node_indeces)\n",
        "\n",
        "            # Get the global DOF indices for the element's nodes\n",
        "            global_dof_indices = []\n",
        "            for node_index in element.node_indeces:\n",
        "                global_dof_indices.extend([node_index])  # DOFs: T\n",
        "\n",
        "            for i in range(len(global_dof_indices)):\n",
        "                for j in range(len(global_dof_indices)):\n",
        "                    self.K_global[global_dof_indices[i], global_dof_indices[j]] += K_elem[i, j]\n",
        "\n",
        "        # Assemble load vector\n",
        "        self.F_global = np.zeros((self.system.num_nodes))\n",
        "        for node_index, f_x in self.system.forces:\n",
        "            global_dof_index = int(node_index)\n",
        "            self.F_global[global_dof_index] += f_x\n",
        "\n",
        "        return self.K_global, self.F_global\n",
        "\n",
        "    def apply_boundary_conditions(self):\n",
        "        known_global_indeces = []\n",
        "        for node_index, constraint_T in self.system.boundary_conditions:\n",
        "            global_dof_index = int(node_index)\n",
        "            if constraint_T == 1:\n",
        "                known_global_indeces.append(global_dof_index)\n",
        "\n",
        "        self.known_global_indeces = known_global_indeces\n",
        "        self.unknown_global_indeces = [i for i in range(self.system.num_nodes) if i not in self.known_global_indeces]\n",
        "\n",
        "        # get the matrix while remowing the indeces in known global indeces\n",
        "        self.Kuu = np.delete(np.delete(self.K_global, known_global_indeces, axis=0), known_global_indeces, axis=1)\n",
        "        self.Fu = np.delete(self.F_global, known_global_indeces, axis=0)\n",
        "\n",
        "        return self.Kuu, self.Fu\n",
        "\n",
        "    def solve_displacements(self):\n",
        "        self.Du = np.linalg.solve(self.Kuu, self.Fu) # unknown displacements\n",
        "\n",
        "        # merge known and unknown displacements\n",
        "        self.displacements = np.zeros((self.system.num_nodes*2))\n",
        "        self.displacements[self.unknown_global_indeces] = self.Du\n",
        "\n",
        "        return self.displacements\n",
        "\n",
        "    def get_reaction_forces(self):\n",
        "         # The reaction forces can be solved from the equation F_k = K_{ku} D_u\n",
        "        K_ku = self.K_global[self.known_global_indeces, :] # Rows corresponding to known DOFs\n",
        "        K_ku = K_ku[:, np.setdiff1d(np.arange(self.K_global.shape[1]), self.known_global_indeces)] # Columns corresponding to unknown DOFs\n",
        "        self.Fk = K_ku @ self.Du\n",
        "        return self.Fk\n",
        "\n",
        "    # def calculate_loads(self):\n",
        "    #     self.stresses = np.zeros((len(self.system.elements), 3)) # sigma11, sigma22, sigma12\n",
        "    #     self.strains = np.zeros((len(self.system.elements), 3)) # epsilon11, epsilon22, epsilon12\n",
        "\n",
        "    #     for i, element in enumerate(self.system.elements):\n",
        "\n",
        "    #         pos1, pos2, pos3, pos4 = element.node_coordinates\n",
        "\n",
        "    #         node_index1, node_index2, node_index3, node_index4 = element.node_indeces\n",
        "\n",
        "    #         dx1, dy1 = self.displacements[2 * node_index1:2 * node_index1 + 2]\n",
        "    #         dx2, dy2 = self.displacements[2 * node_index2:2 * node_index2 + 2]\n",
        "    #         dx3, dy3 = self.displacements[2 * node_index3:2 * node_index3 + 2]\n",
        "    #         dx4, dy4 = self.displacements[2 * node_index4:2 * node_index4 + 2]\n",
        "\n",
        "    #         d_element = np.array([dx1, dy1, dx2, dy2, dx3, dy3, dx4, dy4])\n",
        "\n",
        "    #         B = np.zeros((3, 8))\n",
        "    #         for j, (ksi1_g, ksi2_g) in enumerate(element.gauss_quadrature_points):\n",
        "    #             B += element.get_B(ksi1_g, ksi2_g)\n",
        "\n",
        "    #         strain_element = B @ d_element\n",
        "\n",
        "    #         self.strains[i] = strain_element\n",
        "    #         self.stresses[i] = element.C @ strain_element\n",
        "    #         self.stresses[i][2] /= 2\n",
        "\n",
        "    #     return self.strains, self.stresses\n"
      ]
    },
    {
      "cell_type": "code",
      "execution_count": 44,
      "metadata": {
        "id": "YQSaPCsvXijY"
      },
      "outputs": [],
      "source": [
        "class Plotter:\n",
        "    def __init__(self, solver):\n",
        "        self.solver = solver\n",
        "        self.system = solver.system\n",
        "        self.displacements = solver.displacements\n",
        "\n",
        "        # self.stresses = solver.stresses\n",
        "\n",
        "    def plot_system(self):\n",
        "        \"\"\"\n",
        "        Plots the truss system with stress visualization inside displaced elements.\n",
        "        \"\"\"\n",
        "        fig, ax = plt.subplots(figsize=(8, 8))\n",
        "\n",
        "        # Create a colormap for stress visualization\n",
        "        stress_values = self.solver.stresses.flatten()  # Flatten to consider all stress values\n",
        "        norm = mcolors.Normalize(vmin=stress_values.min(), vmax=stress_values.max())\n",
        "        cmap = colormaps['viridis']\n",
        "        # cmap = colormaps['inferno']\n",
        "\n",
        "        for i, element in enumerate(self.system.elements):\n",
        "            pos1, pos2, pos3, pos4 = element.node_coordinates\n",
        "            node_index1, node_index2, node_index3, node_index4 = element.node_indeces\n",
        "            offset = 0  # Offset for text\n",
        "\n",
        "            # Extract initial coordinates for all 4 nodes\n",
        "            x1, y1 = pos1\n",
        "            x2, y2 = pos2\n",
        "            x3, y3 = pos3\n",
        "            x4, y4 = pos4\n",
        "\n",
        "            # PLOT SYSTEM WITH DISPLACEMENTS\n",
        "            dx1, dy1 = self.displacements[2 * node_index1:2 * node_index1 + 2]\n",
        "            dx2, dy2 = self.displacements[2 * node_index2:2 * node_index2 + 2]\n",
        "            dx3, dy3 = self.displacements[2 * node_index3:2 * node_index3 + 2]\n",
        "            dx4, dy4 = self.displacements[2 * node_index4:2 * node_index4 + 2]\n",
        "\n",
        "            x1_disp = x1 + dx1\n",
        "            y1_disp = y1 + dy1\n",
        "            x2_disp = x2 + dx2\n",
        "            y2_disp = y2 + dy2\n",
        "            x3_disp = x3 + dx3\n",
        "            y3_disp = y3 + dy3\n",
        "            x4_disp = x4 + dx4\n",
        "            y4_disp = y4 + dy4\n",
        "\n",
        "            # Plot the displaced element outline\n",
        "            ax.plot([x1_disp, x2_disp, x3_disp, x4_disp, x1_disp], [y1_disp, y2_disp, y3_disp, y4_disp, y1_disp],\n",
        "                    c=\"b\", linestyle=\"--\")\n",
        "\n",
        "            # Extract stresses for this element\n",
        "            sigma_x, sigma_y, sigma_xy = self.solver.stresses[i]\n",
        "\n",
        "            # Combine stresses for visualization (e.g., von Mises stress)\n",
        "            von_mises_stress = ((sigma_x ** 2 - sigma_x * sigma_y + sigma_y ** 2 + 3 * sigma_xy ** 2) ** 0.5)\n",
        "\n",
        "            # Compute the color for this element based on stress\n",
        "            color = cmap(norm(von_mises_stress))\n",
        "\n",
        "            # Create a filled polygon for stress visualization\n",
        "            polygon = patches.Polygon(\n",
        "                [[x1_disp, y1_disp], [x2_disp, y2_disp], [x3_disp, y3_disp], [x4_disp, y4_disp]],\n",
        "                closed=True, facecolor=color, edgecolor=\"black\"\n",
        "            )\n",
        "            ax.add_patch(polygon)\n",
        "\n",
        "        # Add colorbar to show stress mapping\n",
        "        sm = cm.ScalarMappable(cmap=cmap, norm=norm)\n",
        "        sm.set_array([])\n",
        "        cbar = plt.colorbar(sm, ax=ax)\n",
        "        cbar.set_label('Stress (von Mises)')\n",
        "\n",
        "        plt.title(\"Frame Element(s) with Stress Visualization\")\n",
        "        plt.xlabel(\"x [mm]\")\n",
        "        plt.ylabel(\"y [mm]\")\n",
        "        plt.axis('equal')\n",
        "        plt.show()"
      ]
    },
    {
      "cell_type": "markdown",
      "metadata": {
        "id": "afZUtvppaCIo"
      },
      "source": [
        "## SOLUTION"
      ]
    },
    {
      "cell_type": "code",
      "execution_count": 45,
      "metadata": {
        "id": "hJbp0bjD0obD"
      },
      "outputs": [],
      "source": [
        "nodal_coordinates = np.array([\n",
        "    [0. , 0. ],\n",
        "    [0.5, 0. ],\n",
        "    [1. , 0. ],\n",
        "    [0. , 0.5],\n",
        "    [0.5, 0.5],\n",
        "    [1. , 0.5],\n",
        "    [0. , 1. ],\n",
        "    [0.5, 1. ],\n",
        "    [1. , 1. ]])\n",
        "\n",
        "connectivity=np.array([\n",
        "    [0,1,2,3],\n",
        "    [4,5,6,7]\n",
        "])\n",
        "\n",
        "# node_index, constraint_T\n",
        "boundary_conditions = np.array([[5,1], [6,1], [7,1]])\n",
        "\n",
        "T = 1/6\n",
        " # node_index, T\n",
        "forces = np.array([ # temperatures\n",
        "    [5, T],\n",
        "    [6, T],\n",
        "    [7, T]])\n",
        "\n",
        "num_nodes = len(nodal_coordinates)\n",
        "\n",
        "elements = []\n",
        "for i, node_indeces in enumerate(connectivity):\n",
        "    node_coordinates = nodal_coordinates[node_indeces]\n",
        "    element = HeatElement2D(node_indeces, node_coordinates)\n",
        "    elements.append(element)\n",
        "\n",
        "system = HeatSystem2D(elements, num_nodes, forces, boundary_conditions)"
      ]
    },
    {
      "cell_type": "code",
      "source": [
        "ee = elements[0]\n",
        "ee.get_global_stiffness_matrix().shape"
      ],
      "metadata": {
        "colab": {
          "base_uri": "https://localhost:8080/"
        },
        "id": "u_nay0MNznyX",
        "outputId": "a0f6b630-382c-49a2-d041-a9bb52e719b9"
      },
      "execution_count": 46,
      "outputs": [
        {
          "output_type": "execute_result",
          "data": {
            "text/plain": [
              "(4, 4)"
            ]
          },
          "metadata": {},
          "execution_count": 46
        }
      ]
    },
    {
      "cell_type": "code",
      "source": [
        "solver = Solver(system)\n",
        "Kglobal,Fglobal = solver.assemble_global_matrices()\n",
        "\n",
        "print(Kglobal.shape, Fglobal.shape, nodal_coordinates.shape)"
      ],
      "metadata": {
        "colab": {
          "base_uri": "https://localhost:8080/"
        },
        "id": "2we5F9dpyEd0",
        "outputId": "c03b2b40-1440-47be-d429-3bfc3f49a4a0"
      },
      "execution_count": 47,
      "outputs": [
        {
          "output_type": "stream",
          "name": "stderr",
          "text": [
            "ic| Kglobal.shape: (9, 9)\n",
            "    Fglobal.shape: (9,)\n",
            "    nodal_coordinates.shape: (9, 2)\n"
          ]
        },
        {
          "output_type": "execute_result",
          "data": {
            "text/plain": [
              "((9, 9), (9,), (9, 2))"
            ]
          },
          "metadata": {},
          "execution_count": 47
        }
      ]
    },
    {
      "cell_type": "code",
      "execution_count": 48,
      "metadata": {
        "id": "BeyUH3WaWxdP",
        "colab": {
          "base_uri": "https://localhost:8080/",
          "height": 461
        },
        "outputId": "ae095f68-33cc-49b2-d4ba-d5634e9c5456"
      },
      "outputs": [
        {
          "output_type": "error",
          "ename": "LinAlgError",
          "evalue": "Singular matrix",
          "traceback": [
            "\u001b[0;31m---------------------------------------------------------------------------\u001b[0m",
            "\u001b[0;31mLinAlgError\u001b[0m                               Traceback (most recent call last)",
            "\u001b[0;32m<ipython-input-48-1d16aa24fe0d>\u001b[0m in \u001b[0;36m<cell line: 2>\u001b[0;34m()\u001b[0m\n\u001b[1;32m      1\u001b[0m \u001b[0msolver\u001b[0m \u001b[0;34m=\u001b[0m \u001b[0mSolver\u001b[0m\u001b[0;34m(\u001b[0m\u001b[0msystem\u001b[0m\u001b[0;34m)\u001b[0m\u001b[0;34m\u001b[0m\u001b[0;34m\u001b[0m\u001b[0m\n\u001b[0;32m----> 2\u001b[0;31m \u001b[0msolver\u001b[0m\u001b[0;34m.\u001b[0m\u001b[0msolve\u001b[0m\u001b[0;34m(\u001b[0m\u001b[0;34m)\u001b[0m\u001b[0;34m\u001b[0m\u001b[0;34m\u001b[0m\u001b[0m\n\u001b[0m\u001b[1;32m      3\u001b[0m \u001b[0;31m# _ = print(solver.K_global, solver.F_global, solver.Kuu, solver.Fu, solver.Du, solver.displacements)\u001b[0m\u001b[0;34m\u001b[0m\u001b[0;34m\u001b[0m\u001b[0m\n\u001b[1;32m      4\u001b[0m \u001b[0;34m\u001b[0m\u001b[0m\n\u001b[1;32m      5\u001b[0m \u001b[0;31m# for i in range(0, len(solver.displacements), 2):\u001b[0m\u001b[0;34m\u001b[0m\u001b[0;34m\u001b[0m\u001b[0m\n",
            "\u001b[0;32m<ipython-input-43-77a56d425586>\u001b[0m in \u001b[0;36msolve\u001b[0;34m(self)\u001b[0m\n\u001b[1;32m      6\u001b[0m         \u001b[0mK_global\u001b[0m\u001b[0;34m,\u001b[0m \u001b[0mF_global\u001b[0m \u001b[0;34m=\u001b[0m \u001b[0mself\u001b[0m\u001b[0;34m.\u001b[0m\u001b[0massemble_global_matrices\u001b[0m\u001b[0;34m(\u001b[0m\u001b[0;34m)\u001b[0m\u001b[0;34m\u001b[0m\u001b[0;34m\u001b[0m\u001b[0m\n\u001b[1;32m      7\u001b[0m         \u001b[0mKuu\u001b[0m\u001b[0;34m,\u001b[0m \u001b[0mFu\u001b[0m \u001b[0;34m=\u001b[0m \u001b[0mself\u001b[0m\u001b[0;34m.\u001b[0m\u001b[0mapply_boundary_conditions\u001b[0m\u001b[0;34m(\u001b[0m\u001b[0;34m)\u001b[0m\u001b[0;34m\u001b[0m\u001b[0;34m\u001b[0m\u001b[0m\n\u001b[0;32m----> 8\u001b[0;31m         \u001b[0mdisplacements\u001b[0m \u001b[0;34m=\u001b[0m \u001b[0mself\u001b[0m\u001b[0;34m.\u001b[0m\u001b[0msolve_displacements\u001b[0m\u001b[0;34m(\u001b[0m\u001b[0;34m)\u001b[0m\u001b[0;34m\u001b[0m\u001b[0;34m\u001b[0m\u001b[0m\n\u001b[0m\u001b[1;32m      9\u001b[0m         \u001b[0mreaction_forces\u001b[0m \u001b[0;34m=\u001b[0m \u001b[0mself\u001b[0m\u001b[0;34m.\u001b[0m\u001b[0mget_reaction_forces\u001b[0m\u001b[0;34m(\u001b[0m\u001b[0;34m)\u001b[0m\u001b[0;34m\u001b[0m\u001b[0;34m\u001b[0m\u001b[0m\n\u001b[1;32m     10\u001b[0m         \u001b[0mstrains\u001b[0m\u001b[0;34m,\u001b[0m \u001b[0mstresses\u001b[0m \u001b[0;34m=\u001b[0m \u001b[0mself\u001b[0m\u001b[0;34m.\u001b[0m\u001b[0mcalculate_loads\u001b[0m\u001b[0;34m(\u001b[0m\u001b[0;34m)\u001b[0m\u001b[0;34m\u001b[0m\u001b[0;34m\u001b[0m\u001b[0m\n",
            "\u001b[0;32m<ipython-input-43-77a56d425586>\u001b[0m in \u001b[0;36msolve_displacements\u001b[0;34m(self)\u001b[0m\n\u001b[1;32m     54\u001b[0m \u001b[0;34m\u001b[0m\u001b[0m\n\u001b[1;32m     55\u001b[0m     \u001b[0;32mdef\u001b[0m \u001b[0msolve_displacements\u001b[0m\u001b[0;34m(\u001b[0m\u001b[0mself\u001b[0m\u001b[0;34m)\u001b[0m\u001b[0;34m:\u001b[0m\u001b[0;34m\u001b[0m\u001b[0;34m\u001b[0m\u001b[0m\n\u001b[0;32m---> 56\u001b[0;31m         \u001b[0mself\u001b[0m\u001b[0;34m.\u001b[0m\u001b[0mDu\u001b[0m \u001b[0;34m=\u001b[0m \u001b[0mnp\u001b[0m\u001b[0;34m.\u001b[0m\u001b[0mlinalg\u001b[0m\u001b[0;34m.\u001b[0m\u001b[0msolve\u001b[0m\u001b[0;34m(\u001b[0m\u001b[0mself\u001b[0m\u001b[0;34m.\u001b[0m\u001b[0mKuu\u001b[0m\u001b[0;34m,\u001b[0m \u001b[0mself\u001b[0m\u001b[0;34m.\u001b[0m\u001b[0mFu\u001b[0m\u001b[0;34m)\u001b[0m \u001b[0;31m# unknown displacements\u001b[0m\u001b[0;34m\u001b[0m\u001b[0;34m\u001b[0m\u001b[0m\n\u001b[0m\u001b[1;32m     57\u001b[0m \u001b[0;34m\u001b[0m\u001b[0m\n\u001b[1;32m     58\u001b[0m         \u001b[0;31m# merge known and unknown displacements\u001b[0m\u001b[0;34m\u001b[0m\u001b[0;34m\u001b[0m\u001b[0m\n",
            "\u001b[0;32m/usr/local/lib/python3.10/dist-packages/numpy/linalg/linalg.py\u001b[0m in \u001b[0;36msolve\u001b[0;34m(a, b)\u001b[0m\n\u001b[1;32m    407\u001b[0m     \u001b[0msignature\u001b[0m \u001b[0;34m=\u001b[0m \u001b[0;34m'DD->D'\u001b[0m \u001b[0;32mif\u001b[0m \u001b[0misComplexType\u001b[0m\u001b[0;34m(\u001b[0m\u001b[0mt\u001b[0m\u001b[0;34m)\u001b[0m \u001b[0;32melse\u001b[0m \u001b[0;34m'dd->d'\u001b[0m\u001b[0;34m\u001b[0m\u001b[0;34m\u001b[0m\u001b[0m\n\u001b[1;32m    408\u001b[0m     \u001b[0mextobj\u001b[0m \u001b[0;34m=\u001b[0m \u001b[0mget_linalg_error_extobj\u001b[0m\u001b[0;34m(\u001b[0m\u001b[0m_raise_linalgerror_singular\u001b[0m\u001b[0;34m)\u001b[0m\u001b[0;34m\u001b[0m\u001b[0;34m\u001b[0m\u001b[0m\n\u001b[0;32m--> 409\u001b[0;31m     \u001b[0mr\u001b[0m \u001b[0;34m=\u001b[0m \u001b[0mgufunc\u001b[0m\u001b[0;34m(\u001b[0m\u001b[0ma\u001b[0m\u001b[0;34m,\u001b[0m \u001b[0mb\u001b[0m\u001b[0;34m,\u001b[0m \u001b[0msignature\u001b[0m\u001b[0;34m=\u001b[0m\u001b[0msignature\u001b[0m\u001b[0;34m,\u001b[0m \u001b[0mextobj\u001b[0m\u001b[0;34m=\u001b[0m\u001b[0mextobj\u001b[0m\u001b[0;34m)\u001b[0m\u001b[0;34m\u001b[0m\u001b[0;34m\u001b[0m\u001b[0m\n\u001b[0m\u001b[1;32m    410\u001b[0m \u001b[0;34m\u001b[0m\u001b[0m\n\u001b[1;32m    411\u001b[0m     \u001b[0;32mreturn\u001b[0m \u001b[0mwrap\u001b[0m\u001b[0;34m(\u001b[0m\u001b[0mr\u001b[0m\u001b[0;34m.\u001b[0m\u001b[0mastype\u001b[0m\u001b[0;34m(\u001b[0m\u001b[0mresult_t\u001b[0m\u001b[0;34m,\u001b[0m \u001b[0mcopy\u001b[0m\u001b[0;34m=\u001b[0m\u001b[0;32mFalse\u001b[0m\u001b[0;34m)\u001b[0m\u001b[0;34m)\u001b[0m\u001b[0;34m\u001b[0m\u001b[0;34m\u001b[0m\u001b[0m\n",
            "\u001b[0;32m/usr/local/lib/python3.10/dist-packages/numpy/linalg/linalg.py\u001b[0m in \u001b[0;36m_raise_linalgerror_singular\u001b[0;34m(err, flag)\u001b[0m\n\u001b[1;32m    110\u001b[0m \u001b[0;34m\u001b[0m\u001b[0m\n\u001b[1;32m    111\u001b[0m \u001b[0;32mdef\u001b[0m \u001b[0m_raise_linalgerror_singular\u001b[0m\u001b[0;34m(\u001b[0m\u001b[0merr\u001b[0m\u001b[0;34m,\u001b[0m \u001b[0mflag\u001b[0m\u001b[0;34m)\u001b[0m\u001b[0;34m:\u001b[0m\u001b[0;34m\u001b[0m\u001b[0;34m\u001b[0m\u001b[0m\n\u001b[0;32m--> 112\u001b[0;31m     \u001b[0;32mraise\u001b[0m \u001b[0mLinAlgError\u001b[0m\u001b[0;34m(\u001b[0m\u001b[0;34m\"Singular matrix\"\u001b[0m\u001b[0;34m)\u001b[0m\u001b[0;34m\u001b[0m\u001b[0;34m\u001b[0m\u001b[0m\n\u001b[0m\u001b[1;32m    113\u001b[0m \u001b[0;34m\u001b[0m\u001b[0m\n\u001b[1;32m    114\u001b[0m \u001b[0;32mdef\u001b[0m \u001b[0m_raise_linalgerror_nonposdef\u001b[0m\u001b[0;34m(\u001b[0m\u001b[0merr\u001b[0m\u001b[0;34m,\u001b[0m \u001b[0mflag\u001b[0m\u001b[0;34m)\u001b[0m\u001b[0;34m:\u001b[0m\u001b[0;34m\u001b[0m\u001b[0;34m\u001b[0m\u001b[0m\n",
            "\u001b[0;31mLinAlgError\u001b[0m: Singular matrix"
          ]
        }
      ],
      "source": [
        "solver = Solver(system)\n",
        "solver.solve()\n",
        "# _ = print(solver.K_global, solver.F_global, solver.Kuu, solver.Fu, solver.Du, solver.displacements)\n",
        "\n",
        "# for i in range(0, len(solver.displacements), 2):\n",
        "#     nodal_disp = f\"Node {i//2}: del_x = {solver.displacements[i]:.4f} mm, del_y = {solver.displacements[i+1]:.4f} mm\"\n",
        "#     print(nodal_disp)"
      ]
    },
    {
      "cell_type": "code",
      "execution_count": 18,
      "metadata": {
        "id": "gXts6fBYqctC"
      },
      "outputs": [],
      "source": [
        "# plotter = Plotter(solver)\n",
        "# plotter.plot_system()"
      ]
    },
    {
      "cell_type": "code",
      "execution_count": null,
      "metadata": {
        "id": "RWrUOXjTaOnJ"
      },
      "outputs": [],
      "source": []
    }
  ],
  "metadata": {
    "colab": {
      "provenance": []
    },
    "kernelspec": {
      "display_name": "Python 3",
      "name": "python3"
    },
    "language_info": {
      "name": "python"
    }
  },
  "nbformat": 4,
  "nbformat_minor": 0
}