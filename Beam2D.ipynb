{
  "cells": [
    {
      "cell_type": "code",
      "source": [
        "%pip install icecream"
      ],
      "metadata": {
        "colab": {
          "base_uri": "https://localhost:8080/"
        },
        "id": "3splstSxfaSy",
        "outputId": "59a34ed6-2318-478c-db27-433729d97870"
      },
      "execution_count": 29,
      "outputs": [
        {
          "output_type": "stream",
          "name": "stdout",
          "text": [
            "Collecting icecream\n",
            "  Downloading icecream-2.1.3-py2.py3-none-any.whl.metadata (1.4 kB)\n",
            "Collecting colorama>=0.3.9 (from icecream)\n",
            "  Downloading colorama-0.4.6-py2.py3-none-any.whl.metadata (17 kB)\n",
            "Requirement already satisfied: pygments>=2.2.0 in /usr/local/lib/python3.10/dist-packages (from icecream) (2.18.0)\n",
            "Collecting executing>=0.3.1 (from icecream)\n",
            "  Downloading executing-2.1.0-py2.py3-none-any.whl.metadata (8.9 kB)\n",
            "Collecting asttokens>=2.0.1 (from icecream)\n",
            "  Downloading asttokens-2.4.1-py2.py3-none-any.whl.metadata (5.2 kB)\n",
            "Requirement already satisfied: six>=1.12.0 in /usr/local/lib/python3.10/dist-packages (from asttokens>=2.0.1->icecream) (1.16.0)\n",
            "Downloading icecream-2.1.3-py2.py3-none-any.whl (8.4 kB)\n",
            "Downloading asttokens-2.4.1-py2.py3-none-any.whl (27 kB)\n",
            "Downloading colorama-0.4.6-py2.py3-none-any.whl (25 kB)\n",
            "Downloading executing-2.1.0-py2.py3-none-any.whl (25 kB)\n",
            "Installing collected packages: executing, colorama, asttokens, icecream\n",
            "Successfully installed asttokens-2.4.1 colorama-0.4.6 executing-2.1.0 icecream-2.1.3\n"
          ]
        }
      ]
    },
    {
      "cell_type": "code",
      "execution_count": 31,
      "metadata": {
        "id": "kMMwzTgvUylD"
      },
      "outputs": [],
      "source": [
        "import numpy as np\n",
        "import matplotlib.pyplot as plt\n",
        "from icecream import ic\n",
        "print=ic"
      ]
    },
    {
      "cell_type": "code",
      "source": [
        "class BeamElement2D:\n",
        "    def  __init__(self, node_indeces, node_coordinates,E,A,L,I, theta = 0):\n",
        "        self.node_indeces = node_indeces\n",
        "        self.node_coordinates = node_coordinates\n",
        "        self.E = E\n",
        "        self.A = A\n",
        "        self.L = L\n",
        "        self.I = I\n",
        "        self.theta = theta\n",
        "        self.k_elem_local = None\n",
        "\n",
        "    def get_local_stiffness_matrix(self):\n",
        "        # returns the stiffness matrix for the element in local coordinates\n",
        "        E = self.E; I = self.I; L = self.L\n",
        "        self.k_elem_local = np.array(\n",
        "            [[12*E*I/L**3, 6*E*I/L**2, -12*E*I/L**3, 6*E*I/L**2],\n",
        "             [6*E*I/L**2, 4*E*I/L, -6*E*I/L**2, 2*E*I/L],\n",
        "             [-12*E*I/L**3, -6*E*I/L**2, 12*E*I/L**3, -6*E*I/L**2],\n",
        "             [6*E*I/L**2, 2*E*I/L, -6*E*I/L**2, 4*E*I/L]])\n",
        "        return self.k_elem_local\n",
        "\n",
        "    def get_global_stiffness_matrix(self):\n",
        "        self.get_local_stiffness_matrix()\n",
        "        # returns the global stiffness matrix for the element in global coordinates\n",
        "        S = np.sin(np.deg2rad(self.theta))\n",
        "        C = np.cos(np.deg2rad(self.theta))\n",
        "        # self.R = np.array([[C, S],\n",
        "        #               [-S, C]])\n",
        "        self.T = np.array([\n",
        "            [C,0,0,0],\n",
        "            [0,1,0,0],\n",
        "            [0,0,C,0],\n",
        "            [0,0,0,C]])\n",
        "        self.K_elem_global = self.T.T @ self.k_elem_local @ self.T\n",
        "        return self.K_elem_global"
      ],
      "metadata": {
        "id": "gD4sEdglZjFt"
      },
      "execution_count": 199,
      "outputs": []
    },
    {
      "cell_type": "code",
      "source": [
        "class BeamSystem2D:\n",
        "    def __init__(self, elements, num_nodes, forces, boundary_conditions):\n",
        "        self.elements = elements\n",
        "        self.num_nodes = num_nodes\n",
        "        self.forces = forces\n",
        "        self.boundary_conditions = boundary_conditions\n"
      ],
      "metadata": {
        "id": "G8qKVr-oaAD0"
      },
      "execution_count": 200,
      "outputs": []
    },
    {
      "cell_type": "code",
      "source": [
        "class Solver:\n",
        "    def __init__(self, system):\n",
        "        self.system = system\n",
        "\n",
        "    def solve(self):\n",
        "        K_global, F_global = self.assemble_global_matrices()\n",
        "\n",
        "        self.K_global = np.array([\n",
        "            [3e3, 3e6, -3e3, 3e6, 0, 0],\n",
        "            [3e6, 4e9, -3e6, 2e9, 0,0],\n",
        "            [-3e3, -3e6, 6e3, 0, -3e3, 3e6],\n",
        "            [3e6, 2e9, 0, 8e9, -3e6, 2e9],\n",
        "            [0,0, -3e3, -3e6, 3e3, -3e6],\n",
        "            [0,0, 3e6, 2e9, -3e6, 4e9]\n",
        "        ])\n",
        "\n",
        "        Kuu, Fu = self.apply_boundary_conditions()\n",
        "        displacements = self.solve_displacements()\n",
        "        # stresses = self.calculate_stresses()\n",
        "\n",
        "        # return self.displacements, self.stresses\n",
        "\n",
        "    def assemble_global_matrices(self):\n",
        "        # Assemble global stiffness\n",
        "        self.K_global = np.zeros((self.system.num_nodes*2, self.system.num_nodes*2)) # multiply by 2 cause for a node 2 is the DoF hence it's 2D\n",
        "\n",
        "        for element in self.system.elements:\n",
        "            K_elem = element.get_global_stiffness_matrix()\n",
        "            node_per_element = len(self.system.elements[0].node_indeces) # 2 for linear\n",
        "\n",
        "            # Get the global DOF indices for the element's nodes\n",
        "            global_dof_indices = []\n",
        "            for node_index in element.node_indeces:\n",
        "                global_dof_indices.extend([2 * node_index, 2 * node_index + 1])  # DOFs: x, y\n",
        "\n",
        "            for i in range(len(global_dof_indices)):\n",
        "                for j in range(len(global_dof_indices)):\n",
        "                    self.K_global[global_dof_indices[i], global_dof_indices[j]] += K_elem[i, j]\n",
        "\n",
        "                    # Assemble load vector\n",
        "        self.F_global = np.zeros((self.system.num_nodes*2))\n",
        "        for node_index, f_x, f_y in self.system.forces:\n",
        "            global_dof_index = int(2 * node_index)\n",
        "            self.F_global[global_dof_index] += f_x\n",
        "            self.F_global[global_dof_index + 1] += f_y\n",
        "\n",
        "        return self.K_global, self.F_global\n",
        "\n",
        "    def apply_boundary_conditions(self):\n",
        "        known_global_indeces_y = []\n",
        "        known_global_indeces_theta = []\n",
        "        for node_index, constraint_y, constraint_theta in self.system.boundary_conditions:\n",
        "            global_dof_index_y = int(2 * node_index)      # Vertical displacement index\n",
        "            global_dof_index_theta = int(2 * node_index + 1)  # Angular displacement index\n",
        "            if constraint_y == 1:\n",
        "                known_global_indeces_y.append(global_dof_index_y)\n",
        "            if constraint_theta == 1:\n",
        "                known_global_indeces_theta.append(global_dof_index_theta)\n",
        "\n",
        "        # Separate K and F for vertical and angular displacements\n",
        "        self.Kuu_y = np.delete(np.delete(self.K_global, known_global_indeces_y, axis=0), known_global_indeces_y, axis=1)\n",
        "        self.Fu_y = np.delete(self.F_global, known_global_indeces_y, axis=0)\n",
        "\n",
        "        self.Kuu_theta = np.delete(np.delete(self.K_global, known_global_indeces_theta, axis=0), known_global_indeces_theta, axis=1)\n",
        "        self.Fu_theta = np.delete(self.F_global, known_global_indeces_theta, axis=0)\n",
        "\n",
        "        self.known_global_indeces_y = known_global_indeces_y\n",
        "        self.known_global_indeces_theta = known_global_indeces_theta\n",
        "\n",
        "        return (self.Kuu_y, self.Fu_y), (self.Kuu_theta, self.Fu_theta)\n",
        "\n",
        "    def solve_displacements(self):\n",
        "        # Solve for vertical displacements\n",
        "        Du_y = np.linalg.solve(self.Kuu_y, self.Fu_y)  # unknown vertical displacements\n",
        "        unknown_global_indeces_y = [i for i in range(self.system.num_nodes * 2) if i not in self.known_global_indeces_y]\n",
        "\n",
        "        displacements_y = np.zeros((self.system.num_nodes * 2))\n",
        "        displacements_y[unknown_global_indeces_y] = Du_y\n",
        "\n",
        "        # Solve for angular displacements\n",
        "        # Du_theta = np.linalg.solve(self.Kuu_theta, self.Fu_theta)  # unknown angular displacements\n",
        "        # unknown_global_indeces_theta = [i for i in range(self.system.num_nodes * 2) if i not in self.known_global_indeces_theta]\n",
        "\n",
        "        # displacements_theta = np.zeros((self.system.num_nodes * 2))\n",
        "        # displacements_theta[unknown_global_indeces_theta] = Du_theta\n",
        "\n",
        "        # # Combine displacements for reporting\n",
        "        # self.displacements = displacements_y + displacements_theta\n",
        "\n",
        "        self.Du_y = Du_y\n",
        "        self.displacements = displacements_y\n",
        "        return displacements_y, #displacements_theta"
      ],
      "metadata": {
        "id": "ehETAhP7dtSm"
      },
      "execution_count": 240,
      "outputs": []
    },
    {
      "cell_type": "code",
      "source": [
        "class Plotter:\n",
        "    def __init__(self, solver):\n",
        "        self.system = solver.system\n",
        "        self.displacements = solver.displacements\n",
        "        # self.stresses = solver.stresses\n",
        "\n",
        "    def plot_system(self):\n",
        "        \"\"\"\n",
        "        plots the truss system\n",
        "        \"\"\"\n",
        "        for i, element in enumerate(self.system.elements):\n",
        "            pos1, pos2 = element.node_coordinates\n",
        "            node_index1, node_index2 = element.node_indeces\n",
        "            offset = +0 # for text\n",
        "\n",
        "            # PLOT INITIAL SYSTEM\n",
        "            x1, y1 = pos1\n",
        "            x2, y2 = pos2\n",
        "            plt.scatter([x1,x2], [y1,y2],c=\"r\")\n",
        "            plt.plot([x1,x2], [y1,y2],c=\"r\")\n",
        "            plt.text(x1, y1+offset, node_index1, color=\"r\", horizontalalignment='left',\n",
        "        verticalalignment='top')\n",
        "            plt.text(x2, y2+offset, node_index2, color=\"r\", horizontalalignment='left',\n",
        "        verticalalignment='top')\n",
        "\n",
        "\n",
        "            # PLOT SYSTEM WITH DISPLACEMENTS\n",
        "            x1_disp, y1_disp = pos1 + self.displacements[2*node_index1:2*node_index1+2]\n",
        "            x2_disp, y2_disp = pos2 + self.displacements[2*node_index2:2*node_index2+2]\n",
        "\n",
        "            x1_disp = x1; x2_disp = x2\n",
        "            y1_disp = y1 + self.displacements[2*node_index1]; y2_disp = y2 + self.displacements[2*node_index2]\n",
        "\n",
        "            plt.scatter([x1_disp,x2_disp], [y1_disp,y2_disp],c=\"b\")\n",
        "            plt.plot([x1_disp,x2_disp], [y1_disp,y2_disp],c=\"b\", linestyle=\"--\")\n",
        "            plt.text(x1_disp, y1_disp+offset, node_index1, color=\"b\", horizontalalignment='left',\n",
        "        verticalalignment='top')\n",
        "            plt.text(x2_disp, y2_disp+offset, node_index2, color=\"b\", horizontalalignment='left',\n",
        "        verticalalignment='top')\n",
        "\n",
        "\n",
        "            # # PLOT ELEMENT INTERNAL FORCES\n",
        "            # x_mid = x1_disp + (x2_disp - x1_disp) * 0.5\n",
        "            # y_mid = y1_disp + (y2_disp - y1_disp) * 0.5\n",
        "            # plt.text(x_mid, y_mid, f\"{self.stresses[i]/1000*element.A:.2f} kN\", color=\"black\")\n",
        "\n",
        "\n",
        "        plt.title(\"Beam Element(s)\")\n",
        "        plt.xlabel(\"x [mm]\")\n",
        "        plt.ylabel(\"y [mm]\")\n",
        "        plt.show()"
      ],
      "metadata": {
        "id": "wLVnqtZrdl01"
      },
      "execution_count": 241,
      "outputs": []
    },
    {
      "cell_type": "code",
      "source": [
        "# [units: N, mm, MPa]\n",
        "E = 200e3; I = 1e7; L=4e3; A = 625\n",
        "P = 10e3 # applied force, f_y at the middle of the beam\n",
        "\n",
        "connectivity = np.array([[0,1], [1,2]])\n",
        "nodal_coordinates = np.array([[0,0],[L/2, 0], [L,0]])\n",
        "angles_of_elements = np.array([0,0,0])\n",
        "\n",
        "# node_index, vertical_displacement, angular_displacement\n",
        "boundary_conditions = np.array([\n",
        "                            [0,1,0],\n",
        "                            [2,1,0]])\n",
        "\n",
        " # node_index, f_y, moment_z\n",
        "forces = np.array([\n",
        "                [0, P/2, 0],  # reaction 1\n",
        "                [1, -P, 0],   # applied force\n",
        "                [2, P/2, 0]]) # reaction 2\n",
        "\n",
        "num_nodes = (np.max(connectivity) + 1)\n",
        "\n",
        "elements = []\n",
        "for i, node_indeces in enumerate(connectivity):\n",
        "    node_coordinates = nodal_coordinates[node_indeces]\n",
        "    element = BeamElement2D(node_indeces, node_coordinates, E,A,L,I, theta = angles_of_elements[i])\n",
        "    elements.append(element)\n",
        "\n",
        "system = BeamSystem2D(elements, num_nodes, forces, boundary_conditions)\n"
      ],
      "metadata": {
        "id": "7vf4wagcbsIM"
      },
      "execution_count": 242,
      "outputs": []
    },
    {
      "cell_type": "code",
      "source": [
        "solver = Solver(system)\n",
        "solver.solve()\n",
        "_ = print(solver.K_global, solver.F_global, solver.Kuu_y, solver.Fu_y, solver.Du_y, solver.displacements)\n",
        "\n",
        "for i in range(0, len(solver.displacements), 2):\n",
        "    nodal_disp = f\"Node {i//2+1}: del_y = {solver.displacements[i]:.4f} mm, del_theta = {solver.displacements[i+1]:.4f} rad\"\n",
        "    print(nodal_disp)"
      ],
      "metadata": {
        "colab": {
          "base_uri": "https://localhost:8080/"
        },
        "id": "QBWyQwAAdv1o",
        "outputId": "e01c0766-0b53-4d7b-e8b7-a5e10ffca93d"
      },
      "execution_count": 243,
      "outputs": [
        {
          "output_type": "stream",
          "name": "stderr",
          "text": [
            "ic| solver.K_global: array([[ 3.e+03,  3.e+06, -3.e+03,  3.e+06,  0.e+00,  0.e+00],\n",
            "                            [ 3.e+06,  4.e+09, -3.e+06,  2.e+09,  0.e+00,  0.e+00],\n",
            "                            [-3.e+03, -3.e+06,  6.e+03,  0.e+00, -3.e+03,  3.e+06],\n",
            "                            [ 3.e+06,  2.e+09,  0.e+00,  8.e+09, -3.e+06,  2.e+09],\n",
            "                            [ 0.e+00,  0.e+00, -3.e+03, -3.e+06,  3.e+03, -3.e+06],\n",
            "                            [ 0.e+00,  0.e+00,  3.e+06,  2.e+09, -3.e+06,  4.e+09]])\n",
            "    solver.F_global: array([  5000.,      0., -10000.,      0.,   5000.,      0.])\n",
            "    solver.Kuu_y: array([[ 4.e+09, -3.e+06,  2.e+09,  0.e+00],\n",
            "                         [-3.e+06,  6.e+03,  0.e+00,  3.e+06],\n",
            "                         [ 2.e+09,  0.e+00,  8.e+09,  2.e+09],\n",
            "                         [ 0.e+00,  3.e+06,  2.e+09,  4.e+09]])\n",
            "    solver.Fu_y: array([     0., -10000.,      0.,      0.])\n",
            "    solver.Du_y: array([-5.00000000e-03, -6.66666667e+00,  0.00000000e+00,  5.00000000e-03])\n",
            "    solver.displacements: array([ 0.00000000e+00, -5.00000000e-03, -6.66666667e+00,  0.00000000e+00,\n",
            "                                  0.00000000e+00,  5.00000000e-03])\n",
            "ic| nodal_disp: 'Node 1: del_y = 0.0000 mm, del_theta = -0.0050 rad'\n",
            "ic| nodal_disp: 'Node 2: del_y = -6.6667 mm, del_theta = 0.0000 rad'\n",
            "ic| nodal_disp: 'Node 3: del_y = 0.0000 mm, del_theta = 0.0050 rad'\n"
          ]
        }
      ]
    },
    {
      "cell_type": "code",
      "source": [
        "Fu = solver.Fu_y[1:3]\n",
        "Kuu = solver.K_global[2:4, 2:4]\n",
        "Du = np.linalg.solve(Kuu, Fu)\n",
        "\n",
        "print(f\"Fu: {Fu}\")\n",
        "print(f\"Kuu: {Kuu}\")\n",
        "print(f\"Du: {Du}\")"
      ],
      "metadata": {
        "id": "caYxc-wZv3M0",
        "outputId": "04d976f8-9e51-41bf-fc74-4e3b52fd006e",
        "colab": {
          "base_uri": "https://localhost:8080/",
          "height": 107
        }
      },
      "execution_count": 245,
      "outputs": [
        {
          "output_type": "stream",
          "name": "stderr",
          "text": [
            "ic| f\"Fu: {Fu}\": 'Fu: [-10000.      0.]'\n",
            "ic| f\"Kuu: {Kuu}\": 'Kuu: [[6.e+03 0.e+00]\n",
            "                     [0.e+00 8.e+09]]'\n",
            "ic| f\"Du: {Du}\": 'Du: [-1.66666667  0.        ]'\n"
          ]
        },
        {
          "output_type": "execute_result",
          "data": {
            "text/plain": [
              "'Du: [-1.66666667  0.        ]'"
            ],
            "application/vnd.google.colaboratory.intrinsic+json": {
              "type": "string"
            }
          },
          "metadata": {},
          "execution_count": 245
        }
      ]
    },
    {
      "cell_type": "code",
      "source": [
        "plotter = Plotter(solver)\n",
        "plotter.plot_system()"
      ],
      "metadata": {
        "colab": {
          "base_uri": "https://localhost:8080/",
          "height": 472
        },
        "id": "u5X7ylIBdw37",
        "outputId": "94f673c3-08b3-4a2e-f84a-1b65eb336bf7"
      },
      "execution_count": 230,
      "outputs": [
        {
          "output_type": "display_data",
          "data": {
            "text/plain": [
              "<Figure size 640x480 with 1 Axes>"
            ],
            "image/png": "[encoded data removed]"
          },
          "metadata": {}
        }
      ]
    },
    {
      "cell_type": "code",
      "source": [],
      "metadata": {
        "id": "0LJDsqqioqBc"
      },
      "execution_count": null,
      "outputs": []
    }
  ],
  "metadata": {
    "language_info": {
      "name": "python"
    },
    "colab": {
      "provenance": []
    },
    "kernelspec": {
      "name": "python3",
      "display_name": "Python 3"
    }
  },
  "nbformat": 4,
  "nbformat_minor": 0
}