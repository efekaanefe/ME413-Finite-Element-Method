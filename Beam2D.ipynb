{
  "cells": [
    {
      "cell_type": "code",
      "source": [
        "%pip install icecream"
      ],
      "metadata": {
        "colab": {
          "base_uri": "https://localhost:8080/"
        },
        "id": "3splstSxfaSy",
        "outputId": "972241b3-81b4-419e-84a6-022ffcf2fac0"
      },
      "execution_count": null,
      "outputs": [
        {
          "output_type": "stream",
          "name": "stdout",
          "text": [
            "Requirement already satisfied: icecream in /usr/local/lib/python3.10/dist-packages (2.1.3)\n",
            "Requirement already satisfied: colorama>=0.3.9 in /usr/local/lib/python3.10/dist-packages (from icecream) (0.4.6)\n",
            "Requirement already satisfied: pygments>=2.2.0 in /usr/local/lib/python3.10/dist-packages (from icecream) (2.18.0)\n",
            "Requirement already satisfied: executing>=0.3.1 in /usr/local/lib/python3.10/dist-packages (from icecream) (2.1.0)\n",
            "Requirement already satisfied: asttokens>=2.0.1 in /usr/local/lib/python3.10/dist-packages (from icecream) (3.0.0)\n"
          ]
        }
      ]
    },
    {
      "cell_type": "code",
      "execution_count": null,
      "metadata": {
        "id": "kMMwzTgvUylD"
      },
      "outputs": [],
      "source": [
        "import numpy as np\n",
        "import matplotlib.pyplot as plt\n",
        "from icecream import ic\n",
        "print=ic"
      ]
    },
    {
      "cell_type": "code",
      "source": [
        "class BeamElement2D:\n",
        "    def  __init__(self, node_indeces, node_coordinates,E,A,L,I, theta = 0):\n",
        "        self.node_indeces = node_indeces\n",
        "        self.node_coordinates = node_coordinates\n",
        "        self.E = E\n",
        "        self.A = A\n",
        "        self.L = L\n",
        "        self.I = I\n",
        "        self.theta = theta\n",
        "        self.k_elem_local = None\n",
        "\n",
        "    def get_local_stiffness_matrix(self):\n",
        "        # returns the stiffness matrix for the element in local coordinates\n",
        "        E = self.E; I = self.I; L = self.L\n",
        "        self.k_elem_local = np.array(\n",
        "            [[12*E*I/L**3, 6*E*I/L**2, -12*E*I/L**3, 6*E*I/L**2],\n",
        "             [6*E*I/L**2, 4*E*I/L, -6*E*I/L**2, 2*E*I/L],\n",
        "             [-12*E*I/L**3, -6*E*I/L**2, 12*E*I/L**3, -6*E*I/L**2],\n",
        "             [6*E*I/L**2, 2*E*I/L, -6*E*I/L**2, 4*E*I/L]])\n",
        "        return self.k_elem_local\n",
        "\n",
        "    def get_global_stiffness_matrix(self):\n",
        "        self.get_local_stiffness_matrix()\n",
        "        # returns the global stiffness matrix for the element in global coordinates\n",
        "        S = np.sin(np.deg2rad(self.theta))\n",
        "        C = np.cos(np.deg2rad(self.theta))\n",
        "        # self.R = np.array([[C, S],\n",
        "        #               [-S, C]])\n",
        "        self.T = np.array([\n",
        "            [C,0,0,0],\n",
        "            [0,1,0,0],\n",
        "            [0,0,C,0],\n",
        "            [0,0,0,1]])\n",
        "        self.K_elem_global = self.T.T @ self.k_elem_local @ self.T\n",
        "        return self.K_elem_global\n",
        "\n",
        "    def get_d3N_dx3(self):\n",
        "        L = self.L\n",
        "        return np.array([\n",
        "            12/L**3,\n",
        "            6/L**2,\n",
        "            -12/L**3,\n",
        "            6/L**2,\n",
        "        ])\n",
        "\n",
        "    def get_d2N_dx2(self):\n",
        "        L = self.L\n",
        "        return np.array([\n",
        "            -6/L**2,\n",
        "            -4*L,\n",
        "            -6/L**2,\n",
        "            4*L\n",
        "        ])\n",
        "\n",
        "\n"
      ],
      "metadata": {
        "id": "gD4sEdglZjFt"
      },
      "execution_count": null,
      "outputs": []
    },
    {
      "cell_type": "code",
      "source": [
        "class BeamSystem2D:\n",
        "    def __init__(self, elements, num_nodes, forces, boundary_conditions):\n",
        "        self.elements = elements\n",
        "        self.num_nodes = num_nodes\n",
        "        self.forces = forces\n",
        "        self.boundary_conditions = boundary_conditions\n"
      ],
      "metadata": {
        "id": "G8qKVr-oaAD0"
      },
      "execution_count": null,
      "outputs": []
    },
    {
      "cell_type": "code",
      "source": [
        "class Solver:\n",
        "    def __init__(self, system):\n",
        "        self.system = system\n",
        "\n",
        "    def solve(self, known_displacements = None):\n",
        "        K_global, F_global = self.assemble_global_matrices()\n",
        "        # self.K_global = K_global_correct\n",
        "\n",
        "        Kuu, Fu = self.apply_boundary_conditions()\n",
        "        displacements = self.solve_displacements(known_displacements)\n",
        "        loads = self.calculate_internal_forces_and_moments()\n",
        "\n",
        "        # return self.displacements, self.loads\n",
        "\n",
        "    def assemble_global_matrices(self):\n",
        "        # Assemble global stiffness\n",
        "        self.K_global = np.zeros((self.system.num_nodes*2, self.system.num_nodes*2)) # multiply by 2 cause for a node 2 is the DoF hence it's 2D\n",
        "\n",
        "        for element in self.system.elements:\n",
        "            K_elem = element.get_global_stiffness_matrix()\n",
        "            node_per_element = len(self.system.elements[0].node_indeces) # 2 for linear\n",
        "\n",
        "            # Get the global DOF indices for the element's nodes\n",
        "            global_dof_indices = []\n",
        "            for node_index in element.node_indeces:\n",
        "                global_dof_indices.extend([2 * node_index, 2 * node_index + 1])  # DOFs: x, y\n",
        "\n",
        "            for i in range(len(global_dof_indices)):\n",
        "                for j in range(len(global_dof_indices)):\n",
        "                    self.K_global[global_dof_indices[i], global_dof_indices[j]] += K_elem[i, j]\n",
        "\n",
        "        # Assemble load vector\n",
        "        self.F_global = np.zeros((self.system.num_nodes*2))\n",
        "        for node_index, f_x, f_y in self.system.forces:\n",
        "            global_dof_index = int(2 * node_index)\n",
        "            self.F_global[global_dof_index] += f_x\n",
        "            self.F_global[global_dof_index + 1] += f_y\n",
        "\n",
        "        return self.K_global, self.F_global\n",
        "\n",
        "\n",
        "    def apply_boundary_conditions(self):\n",
        "        known_global_indeces = []\n",
        "        for node_index, constraint_y, constraint_theta in self.system.boundary_conditions:\n",
        "            global_dof_index = int(2 * node_index)\n",
        "            if constraint_y == 1:\n",
        "                known_global_indeces.append(global_dof_index)\n",
        "            if constraint_theta == 1:\n",
        "                known_global_indeces.append(global_dof_index + 1)\n",
        "\n",
        "        self.known_global_indeces = known_global_indeces\n",
        "        self.unknown_global_indeces = [i for i in range(self.system.num_nodes*2) if i not in self.known_global_indeces]\n",
        "\n",
        "        # get the matrix while remowing the indeces in known global indeces\n",
        "        self.Kuu = np.delete(np.delete(self.K_global, known_global_indeces, axis=0), known_global_indeces, axis=1)\n",
        "        self.Fu = np.delete(self.F_global, known_global_indeces, axis=0)\n",
        "\n",
        "        return self.Kuu, self.Fu\n",
        "\n",
        "    def solve_displacements(self, known_displacements = None):\n",
        "        self.Du = np.linalg.solve(self.Kuu, self.Fu) # unknown displacements\n",
        "\n",
        "        self.Fk = self.get_reaction_forces()\n",
        "\n",
        "        # merge known and unknown displacements based on self.known_global_indeces\n",
        "        self.displacements = np.zeros((self.system.num_nodes*2))\n",
        "        self.displacements[self.unknown_global_indeces] = self.Du\n",
        "\n",
        "        if known_displacements:\n",
        "            self.displacements[self.known_global_indeces] = known_displacements\n",
        "\n",
        "        return self.displacements\n",
        "\n",
        "    def calculate_internal_forces_and_moments(self):\n",
        "        self.loads = np.zeros((len(self.system.elements), 3)) # V, M1, M2\n",
        "\n",
        "        for i, element in enumerate(self.system.elements):\n",
        "                d_e = self.displacements[ i*2: i*2+2*2] # displacement_element\n",
        "\n",
        "                V = -element.E*element.I* np.dot(element.get_d3N_dx3(), d_e)\n",
        "                M1 = element.E*element.I*np.dot(element.get_d2N_dx2(), d_e)\n",
        "                M2 = -M1\n",
        "\n",
        "                self.loads[i] = [V, M1, M2]\n",
        "\n",
        "        # self.loads[self.known_global_indeces] = self.Fk ,something like this may be good\n",
        "\n",
        "        return self.loads\n",
        "\n",
        "    def get_reaction_forces(self):\n",
        "        # The reaction forces can be solved from the equation F_k = K_{ku} D_u\n",
        "        Fu = self.Fu\n",
        "        Du = self.Du\n",
        "        K_global = self.K_global\n",
        "        known_global_indeces = self.known_global_indeces\n",
        "        K_ku = K_global[known_global_indeces, :] # Rows corresponding to known DOFs\n",
        "        K_ku = K_ku[:, np.setdiff1d(np.arange(K_global.shape[1]), known_global_indeces)] # Columns corresponding to unknown DOFs\n",
        "        self.Fk = K_ku @ Du\n",
        "        return self.Fk\n"
      ],
      "metadata": {
        "id": "ehETAhP7dtSm"
      },
      "execution_count": null,
      "outputs": []
    },
    {
      "cell_type": "code",
      "source": [
        "class Plotter:\n",
        "    def __init__(self, solver):\n",
        "        self.system = solver.system\n",
        "        self.displacements = solver.displacements\n",
        "        self.loads = solver.loads\n",
        "\n",
        "    def plot_system(self):\n",
        "        \"\"\"\n",
        "        plots the truss system\n",
        "        \"\"\"\n",
        "        for i, element in enumerate(self.system.elements):\n",
        "            pos1, pos2 = element.node_coordinates\n",
        "            node_index1, node_index2 = element.node_indeces\n",
        "            offset = +0.1 # for text\n",
        "\n",
        "            # PLOT INITIAL SYSTEM\n",
        "            x1, y1 = pos1\n",
        "            x2, y2 = pos2\n",
        "            plt.scatter([x1,x2], [y1,y2],c=\"r\")\n",
        "            plt.plot([x1,x2], [y1,y2],c=\"r\")\n",
        "            plt.text(x1, y1+offset, node_index1, color=\"r\", horizontalalignment='left',\n",
        "        verticalalignment='top')\n",
        "            plt.text(x2, y2+offset, node_index2, color=\"r\", horizontalalignment='left',\n",
        "        verticalalignment='top')\n",
        "\n",
        "\n",
        "            # PLOT SYSTEM WITH DISPLACEMENTS\n",
        "            x1_disp, y1_disp = pos1 + self.displacements[2*node_index1:2*node_index1+2]\n",
        "            x2_disp, y2_disp = pos2 + self.displacements[2*node_index2:2*node_index2+2]\n",
        "\n",
        "            x1_disp = x1; x2_disp = x2\n",
        "            y1_disp = y1 + self.displacements[2*node_index1]; y2_disp = y2 + self.displacements[2*node_index2]\n",
        "\n",
        "            plt.scatter([x1_disp,x2_disp], [y1_disp,y2_disp],c=\"b\")\n",
        "            plt.plot([x1_disp,x2_disp], [y1_disp,y2_disp],c=\"b\", linestyle=\"--\")\n",
        "            plt.text(x1_disp, y1_disp+offset, node_index1, color=\"b\", horizontalalignment='left',\n",
        "        verticalalignment='top')\n",
        "            plt.text(x2_disp, y2_disp+offset, node_index2, color=\"b\", horizontalalignment='left',\n",
        "        verticalalignment='top')\n",
        "\n",
        "\n",
        "            # V, M1, M2 = self.loads[i]\n",
        "            # # PLOT ELEMENT INTERNAL FORCES, V\n",
        "            # x_mid = x1_disp + (x2_disp - x1_disp) * 0.5\n",
        "            # y_mid = y1_disp + (y2_disp - y1_disp) * 0.5\n",
        "            # plt.text(x_mid, y_mid, f\"{V/1000:.2f} kN\", color=\"black\")\n",
        "\n",
        "            # # PLOT ELEMENT INTERNAL MOMMENTS, (M1, M2)\n",
        "            # scale = 0.08\n",
        "            # plt.text(x1_disp+(x2_disp-x1_disp)*scale, y1_disp+(y2_disp-y1_disp)*scale, f\"{M1/1e6:.2f} N*m\", color=\"black\")\n",
        "            # plt.text(x2_disp+(x1_disp-x2_disp)*scale*4, y2_disp+(y1_disp-y2_disp)*scale, f\"{M2/1e6:.2f} N*m\", color=\"black\")\n",
        "\n",
        "        plt.title(\"Beam Element(s)\")\n",
        "        plt.xlabel(\"x [mm]\")\n",
        "        plt.ylabel(\"y [mm]\")\n",
        "        plt.show()"
      ],
      "metadata": {
        "id": "wLVnqtZrdl01"
      },
      "execution_count": null,
      "outputs": []
    },
    {
      "cell_type": "code",
      "source": [
        "# [units: N, mm, MPa]\n",
        "E = 200e3; I = 1e7; L=4e3; A = 625\n",
        "P = 10e3 # applied force, f_y at the middle of the beam\n",
        "\n",
        "connectivity = np.array([[0,1], [1,2]])\n",
        "nodal_coordinates = np.array([[0,0],[L/2, 0], [L,0]])\n",
        "angles_of_elements = np.array([0,0,0])\n",
        "\n",
        "# node_index, constraint_y, constraint_theta\n",
        "boundary_conditions = np.array([\n",
        "                            [0,1,1],\n",
        "                            [2,1,1]])\n",
        "\n",
        " # node_index, f_y, moment_z\n",
        "forces = np.array([\n",
        "                [1, -P, 0],   # applied force\n",
        "                ])\n",
        "\n",
        "num_nodes = (np.max(connectivity) + 1)\n",
        "\n",
        "elements = []\n",
        "for i, node_indeces in enumerate(connectivity):\n",
        "    node_coordinates = nodal_coordinates[node_indeces]\n",
        "    L_element = node_coordinates[1][0] - node_coordinates[0][0]\n",
        "    element = BeamElement2D(node_indeces, node_coordinates, E,A,L_element,I, theta = angles_of_elements[i])\n",
        "    elements.append(element)\n",
        "\n",
        "system = BeamSystem2D(elements, num_nodes, forces, boundary_conditions)\n"
      ],
      "metadata": {
        "id": "7vf4wagcbsIM"
      },
      "execution_count": null,
      "outputs": []
    },
    {
      "cell_type": "code",
      "source": [
        "solver = Solver(system)\n",
        "solver.solve()\n",
        "_ = print(solver.K_global, solver.F_global, solver.Kuu, solver.Fu, solver.Du, solver.Fk, solver.displacements, solver.loads)\n",
        "\n",
        "for i in range(0, len(solver.displacements), 2):\n",
        "    nodal_disp = f\"Node {i//2+1}: del_y = {solver.displacements[i]:.4f} mm, del_theta = {solver.displacements[i+1]:.4f} rad\"\n",
        "    print(nodal_disp)"
      ],
      "metadata": {
        "colab": {
          "base_uri": "https://localhost:8080/"
        },
        "id": "QBWyQwAAdv1o",
        "outputId": "e996d574-c27b-4605-eb07-6137fbb78a16"
      },
      "execution_count": null,
      "outputs": [
        {
          "output_type": "stream",
          "name": "stderr",
          "text": [
            "ic| solver.K_global: array([[ 3.e+03,  3.e+06, -3.e+03,  3.e+06,  0.e+00,  0.e+00],\n",
            "                            [ 3.e+06,  4.e+09, -3.e+06,  2.e+09,  0.e+00,  0.e+00],\n",
            "                            [-3.e+03, -3.e+06,  6.e+03,  0.e+00, -3.e+03,  3.e+06],\n",
            "                            [ 3.e+06,  2.e+09,  0.e+00,  8.e+09, -3.e+06,  2.e+09],\n",
            "                            [ 0.e+00,  0.e+00, -3.e+03, -3.e+06,  3.e+03, -3.e+06],\n",
            "                            [ 0.e+00,  0.e+00,  3.e+06,  2.e+09, -3.e+06,  4.e+09]])\n",
            "    solver.F_global: array([     0.,      0., -10000.,      0.,      0.,      0.])\n",
            "    solver.Kuu: array([[6.e+03, 0.e+00],\n",
            "                       [0.e+00, 8.e+09]])\n",
            "    solver.Fu: array([-10000.,      0.])\n",
            "    solver.Du: array([-1.66666667,  0.        ])\n",
            "    solver.Fk: array([    5000.,  5000000.,     5000., -5000000.])\n",
            "    solver.displacements: array([ 0.        ,  0.        , -1.66666667,  0.        ,  0.        ,\n",
            "                                  0.        ])\n",
            "    solver.loads: array([[   -5000.,  5000000., -5000000.],\n",
            "                         [    5000.,  5000000., -5000000.]])\n",
            "ic| nodal_disp: 'Node 1: del_y = 0.0000 mm, del_theta = 0.0000 rad'\n",
            "ic| nodal_disp: 'Node 2: del_y = -1.6667 mm, del_theta = 0.0000 rad'\n",
            "ic| nodal_disp: 'Node 3: del_y = 0.0000 mm, del_theta = 0.0000 rad'\n"
          ]
        }
      ]
    },
    {
      "cell_type": "code",
      "source": [
        "plotter = Plotter(solver)\n",
        "plotter.plot_system()"
      ],
      "metadata": {
        "colab": {
          "base_uri": "https://localhost:8080/",
          "height": 472
        },
        "id": "u5X7ylIBdw37",
        "outputId": "41f850ea-ddf0-454a-af98-6271081093b6"
      },
      "execution_count": null,
      "outputs": [
        {
          "output_type": "display_data",
          "data": {
            "text/plain": [
              "<Figure size 640x480 with 1 Axes>"
            ],
            "image/png": "[encoded data removed]"
          },
          "metadata": {}
        }
      ]
    }
  ],
  "metadata": {
    "language_info": {
      "name": "python"
    },
    "colab": {
      "provenance": []
    },
    "kernelspec": {
      "name": "python3",
      "display_name": "Python 3"
    }
  },
  "nbformat": 4,
  "nbformat_minor": 0
}