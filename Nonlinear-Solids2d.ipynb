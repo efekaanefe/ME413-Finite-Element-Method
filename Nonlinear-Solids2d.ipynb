{
  "cells": [
    {
      "cell_type": "code",
      "execution_count": 1,
      "metadata": {
        "id": "umJ4TVh_KADS",
        "outputId": "89904f9f-fb02-4863-ba30-055107572189",
        "colab": {
          "base_uri": "https://localhost:8080/"
        }
      },
      "outputs": [
        {
          "output_type": "stream",
          "name": "stdout",
          "text": [
            "Collecting icecream\n",
            "  Downloading icecream-2.1.3-py2.py3-none-any.whl.metadata (1.4 kB)\n",
            "Collecting colorama>=0.3.9 (from icecream)\n",
            "  Downloading colorama-0.4.6-py2.py3-none-any.whl.metadata (17 kB)\n",
            "Requirement already satisfied: pygments>=2.2.0 in /usr/local/lib/python3.10/dist-packages (from icecream) (2.18.0)\n",
            "Collecting executing>=0.3.1 (from icecream)\n",
            "  Downloading executing-2.1.0-py2.py3-none-any.whl.metadata (8.9 kB)\n",
            "Collecting asttokens>=2.0.1 (from icecream)\n",
            "  Downloading asttokens-3.0.0-py3-none-any.whl.metadata (4.7 kB)\n",
            "Downloading icecream-2.1.3-py2.py3-none-any.whl (8.4 kB)\n",
            "Downloading asttokens-3.0.0-py3-none-any.whl (26 kB)\n",
            "Downloading colorama-0.4.6-py2.py3-none-any.whl (25 kB)\n",
            "Downloading executing-2.1.0-py2.py3-none-any.whl (25 kB)\n",
            "Installing collected packages: executing, colorama, asttokens, icecream\n",
            "Successfully installed asttokens-3.0.0 colorama-0.4.6 executing-2.1.0 icecream-2.1.3\n"
          ]
        }
      ],
      "source": [
        "%pip install icecream"
      ]
    },
    {
      "cell_type": "code",
      "execution_count": 2,
      "metadata": {
        "id": "DXaPYJZjKADS"
      },
      "outputs": [],
      "source": [
        "import numpy as np\n",
        "import matplotlib.pyplot as plt\n",
        "from icecream import ic\n",
        "print=ic\n"
      ]
    },
    {
      "cell_type": "code",
      "source": [
        "class NonlinearElement2D:\n",
        "    def  __init__(self, node_indeces, node_coordinates):\n",
        "        self.node_indeces = node_indeces\n",
        "        self.node_coordinates = node_coordinates\n"
      ],
      "metadata": {
        "id": "znCiMSxqP3rT"
      },
      "execution_count": null,
      "outputs": []
    },
    {
      "cell_type": "code",
      "source": [
        "## code for term project\n",
        "\n",
        "# given variables\n",
        "# N,mm,MPa\n",
        "b = h = 10\n",
        "r = 2\n",
        "t = 0.1e3 # N/mm\n",
        "\n",
        "\n"
      ],
      "metadata": {
        "id": "dZWx1L4OLSRj"
      },
      "execution_count": 31,
      "outputs": []
    },
    {
      "cell_type": "code",
      "source": [
        "def generate_structured_points_with_hole(rect_size, hole_size, spacing):\n",
        "    \"\"\"\n",
        "    Generate structured points inside a rectangle with a square hole at the center.\n",
        "\n",
        "    Parameters:\n",
        "    - rect_size: tuple, dimensions of the rectangle (width, height) in mm\n",
        "    - hole_size: tuple, dimensions of the square hole (width, height) in mm\n",
        "    - spacing: float, distance between points in mm\n",
        "\n",
        "    Returns:\n",
        "    - points: numpy array of shape (N, 2), points inside the area excluding the hole\n",
        "    \"\"\"\n",
        "    width, height = rect_size\n",
        "    hole_width, hole_height = hole_size\n",
        "\n",
        "    # Define the hole's bounds\n",
        "    hole_x_min = (width - hole_width) / 2\n",
        "    hole_x_max = (width + hole_width) / 2\n",
        "    hole_y_min = (height - hole_height) / 2\n",
        "    hole_y_max = (height + hole_height) / 2\n",
        "\n",
        "    # Generate structured grid points\n",
        "    x_coords = np.arange(0, width + spacing, spacing)\n",
        "    y_coords = np.arange(0, height + spacing, spacing)\n",
        "    grid_x, grid_y = np.meshgrid(x_coords, y_coords)\n",
        "    points = np.column_stack((grid_x.ravel(), grid_y.ravel()))\n",
        "\n",
        "    # Filter out points inside the hole\n",
        "    mask = ~((hole_x_min <= points[:, 0]) & (points[:, 0] <= hole_x_max) &\n",
        "             (hole_y_min <= points[:, 1]) & (points[:, 1] <= hole_y_max))\n",
        "\n",
        "    return points[mask]\n",
        "\n",
        "def generate_hole_perimeter_points(rect_size, hole_radius, num_nodes_on_perimeter):\n",
        "    \"\"\"\n",
        "    Generate a grid of points with nodes on the perimeter of a hole inside the rectangle.\n",
        "\n",
        "    Parameters:\n",
        "    - rect_size: tuple, dimensions of the rectangle (width, height) in mm\n",
        "    - hole_radius: float, radius of the circular hole in mm\n",
        "    - num_nodes_on_perimeter: int, number of nodes on the perimeter of the hole\n",
        "\n",
        "    Returns:\n",
        "    - points: numpy array of shape (N, 2), points in the grid with nodes on the hole's perimeter\n",
        "    \"\"\"\n",
        "    width, height = rect_size\n",
        "    # Define the center of the hole\n",
        "    hole_center = (width / 2, height / 2)\n",
        "\n",
        "    # Generate a grid of points within the rectangle\n",
        "    x_coords = np.arange(0, width, 1)\n",
        "    y_coords = np.arange(0, height, 1)\n",
        "    grid_x, grid_y = np.meshgrid(x_coords, y_coords)\n",
        "    grid_points = np.column_stack((grid_x.ravel(), grid_y.ravel()))\n",
        "\n",
        "    # Generate nodes on the perimeter of the hole\n",
        "    angles = np.linspace(0, 2 * np.pi, num_nodes_on_perimeter, endpoint=False)\n",
        "    hole_x = hole_center[0] + hole_radius * np.cos(angles)\n",
        "    hole_y = hole_center[1] + hole_radius * np.sin(angles)\n",
        "    hole_points = np.column_stack((hole_x, hole_y))\n",
        "\n",
        "\n",
        "    return hole_points\n",
        "\n",
        "def mirror_points(points, x_mirror, y_mirror):\n",
        "    mirrored_points = []\n",
        "\n",
        "    for point in points:\n",
        "        x, y = point\n",
        "\n",
        "        # Mirror about x = 5\n",
        "        mirrored_x = 2 * x_mirror - x\n",
        "\n",
        "        # Mirror about y = 5\n",
        "        mirrored_y = 2 * y_mirror - y\n",
        "\n",
        "        mirrored_points.append([mirrored_x, mirrored_y])\n",
        "        mirrored_points.append([x, mirrored_y])\n",
        "        mirrored_points.append([mirrored_x, y])\n",
        "\n",
        "    return np.array(mirrored_points)\n",
        "\n",
        "# Parameters\n",
        "rect_size = (10, 10)\n",
        "hole_size = (5.9, 5.9)\n",
        "spacing = 1\n",
        "\n",
        "structured_nodes = generate_structured_points_with_hole(rect_size, hole_size, spacing)\n",
        "\n",
        "hole_radius = 2\n",
        "num_nodes_on_perimeter = 24\n",
        "hole_perimeter_nodes = generate_hole_perimeter_points(rect_size, hole_radius, num_nodes_on_perimeter)\n",
        "\n",
        "unstructured_nodes = np.array([\n",
        "    [2.6,4.5],\n",
        "    [2.7,3.7],\n",
        "    [3.1,3.1],\n",
        "    [3.8,2.75],\n",
        "    [4.5,2.6],\n",
        "])\n",
        "\n",
        "\n",
        "# Create mirrored points\n",
        "mirrored_points = mirror_points(unstructured_nodes, x_mirror = 5, y_mirror = 5)\n",
        "unstructured_nodes = np.vstack((unstructured_nodes, mirrored_points))\n",
        "\n",
        "# Plotting\n",
        "plt.figure(figsize=(6, 6))\n",
        "plt.scatter(structured_nodes[:, 0], structured_nodes[:, 1], s=10, color='blue', label='Valid Points')\n",
        "plt.scatter(hole_perimeter_nodes[:, 0], hole_perimeter_nodes[:, 1], s=10, color='red', label='Nodes on Hole Perimeter')\n",
        "\n",
        "plt.scatter(unstructured_nodes[:, 0], unstructured_nodes[:, 1], s=10, color='purple', label='Unstructured Nodes')\n",
        "\n",
        "\n",
        "#plt.gca().add_patch(plt.Circle((rect_size[0]/2, rect_size[1]/2), hole_radius, color='red', alpha=0.3, label='Hole'))\n",
        "plt.xlim(-1, 11)\n",
        "plt.ylim(-1, 11)\n",
        "plt.gca().set_aspect('equal', adjustable='box')\n",
        "plt.xlabel('X (mm)')\n",
        "plt.ylabel('Y (mm)')\n",
        "plt.title('Grid with Nodes on Hole Perimeter')\n",
        "# plt.legend()\n",
        "plt.show()"
      ],
      "metadata": {
        "id": "Ms2yXWVET5iS",
        "outputId": "3dcf8e9c-c9a0-4ab7-b87d-79a7b9ef2733",
        "colab": {
          "base_uri": "https://localhost:8080/",
          "height": 564
        }
      },
      "execution_count": 60,
      "outputs": [
        {
          "output_type": "display_data",
          "data": {
            "text/plain": [
              "<Figure size 600x600 with 1 Axes>"
            ],
            "image/png": "[encoded data removed]"
          },
          "metadata": {}
        }
      ]
    },
    {
      "cell_type": "code",
      "source": [],
      "metadata": {
        "id": "si92eB_jVAew"
      },
      "execution_count": null,
      "outputs": []
    }
  ],
  "metadata": {
    "language_info": {
      "name": "python"
    },
    "colab": {
      "provenance": []
    },
    "kernelspec": {
      "name": "python3",
      "display_name": "Python 3"
    }
  },
  "nbformat": 4,
  "nbformat_minor": 0
}