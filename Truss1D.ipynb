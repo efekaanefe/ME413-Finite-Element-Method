{
  "cells": [
    {
      "cell_type": "code",
      "execution_count": 1,
      "metadata": {
        "id": "CqylRLdHkAl3"
      },
      "outputs": [],
      "source": [
        "import numpy as np\n",
        "import matplotlib.pyplot as plt\n",
        "\n",
        "# TODO: make 1D truss linear solver with fixed area and constant material properties\n"
      ]
    },
    {
      "cell_type": "code",
      "source": [
        "class TrussElement:\n",
        "    def __init__(self, node_indeces, E, A, length, q,shape_function=\"linear\"):\n",
        "        self.nodes = node_indeces\n",
        "        self.E = E\n",
        "        self.A = A\n",
        "        self.length = length\n",
        "        self.q = q\n",
        "        self.shape_function = shape_function\n",
        "\n",
        "    def stiffness_matrix(self):\n",
        "        if self.shape_function == \"linear\":\n",
        "            k = self.E * self.A / self.length\n",
        "            return k*np.array([[1, -1], [-1, 1]])\n",
        "        elif self.shape_function == \"quadratic\":\n",
        "            k = self.E * self.A / (self.length*3)\n",
        "            return k*np.array([[7, -8, 1], [-8, 16, -8], [1, -8, 7]])\n",
        "\n",
        "    def load_vector(self):\n",
        "        # Calculate the load vector for the element\n",
        "        if self.shape_function == \"linear\":\n",
        "            return np.array([self.q*self.length / 2, self.q*self.length / 2])\n",
        "        elif self.shape_function == \"quadratic\":\n",
        "            return np.array([self.q*self.length / 6, 4*self.q*self.length / 6, self.q*self.length / 6])\n",
        "\n",
        "    def __repr__(self):\n",
        "        return f\"TrussElement(nodes={self.nodes}\"\n"
      ],
      "metadata": {
        "id": "Ifc8pXATmehS"
      },
      "execution_count": 283,
      "outputs": []
    },
    {
      "cell_type": "code",
      "source": [
        "# N, mm, MPa\n",
        "\n",
        "class Truss1D:\n",
        "    def __init__(self, num_elem, E, A, L, q = 0, F_applied_at_end = 0, shape_function=\"linear\"):\n",
        "        self.num_elem = num_elem\n",
        "        self.E = E\n",
        "        self.A = A\n",
        "        self.L = L\n",
        "        self.q = q # distributed load, N/mm\n",
        "        self.F_applied_at_end = F_applied_at_end # N\n",
        "        self.shape_function = shape_function\n",
        "\n",
        "        self.elements = np.zeros(num_elem, dtype=TrussElement)\n",
        "        self.num_nodes = self.num_elem + 1 if shape_function == \"linear\" else 2*self.num_elem + 1\n",
        "\n",
        "    def create_elements(self):\n",
        "        # create TrussElemets for a specified length of truss with num_elements\n",
        "        element_length = self.L / self.num_elem\n",
        "        for i, element_i in enumerate(range(self.num_elem)):\n",
        "\n",
        "            if self.shape_function == \"linear\":\n",
        "                node_indeces = [element_i, element_i + 1]\n",
        "            elif self.shape_function == \"quadratic\":\n",
        "                node_indeces = [2*element_i, 2*element_i+1, 2*element_i+2]\n",
        "\n",
        "            self.elements[i] = TrussElement(node_indeces, self.E,  self.A, element_length,q=self.q, shape_function=self.shape_function)\n",
        "\n",
        "    def __repr__(self):\n",
        "        return self.elements\n"
      ],
      "metadata": {
        "id": "HJX8U5Yfn8ke"
      },
      "execution_count": 372,
      "outputs": []
    },
    {
      "cell_type": "code",
      "source": [
        "class TrussSolver:\n",
        "    def __init__(self, truss : Truss1D):\n",
        "        self.truss = truss\n",
        "\n",
        "        self.displacements = None\n",
        "\n",
        "    def solve(self):\n",
        "        self.assemble_global_matrices()\n",
        "        self.solve_displacements()\n",
        "        self.compute_stresses()\n",
        "        return self.displacements, self.stresses\n",
        "\n",
        "    def assemble_global_matrices(self):\n",
        "        self.K_global = np.zeros((self.truss.num_nodes, self.truss.num_nodes))\n",
        "        self.F_global = np.zeros(self.truss.num_nodes)\n",
        "\n",
        "        # Assemble the global stiffness and load vector\n",
        "        node_per_element = len(self.truss.elements[0].nodes)\n",
        "\n",
        "        for i, element in enumerate(self.truss.elements):\n",
        "            k_element = element.stiffness_matrix()\n",
        "            for j in range(node_per_element):\n",
        "                for k in range(node_per_element):\n",
        "                    self.K_global[element.nodes[j], element.nodes[k]] += k_element[j, k]\n",
        "\n",
        "        for i, element in enumerate(self.truss.elements):\n",
        "            for j in range(node_per_element):\n",
        "                f_element = element.load_vector()\n",
        "                self.F_global[element.nodes[j]] += f_element[j]\n",
        "        self.F_global[-1] += self.truss.F_applied_at_end\n",
        "\n",
        "        return self.K_global, self.F_global\n",
        "\n",
        "    def solve_displacements(self):\n",
        "        # Solve for displacements\n",
        "        Kuu = self.K_global[1:,1:] # K_unknown\n",
        "        Fu = self.F_global[1:]\n",
        "        self.displacements = np.linalg.solve(Kuu, Fu)\n",
        "        self.displacements = np.insert(self.displacements, 0, 0)\n",
        "        return self.displacements\n",
        "\n",
        "    def compute_stresses(self):\n",
        "        # Calculate stresses in each element\n",
        "        self.stresses = np.zeros(self.truss.num_elem)\n",
        "        for i, element in enumerate(self.truss.elements):\n",
        "            del_x = element.length if self.truss.shape_function == \"linear\" else element.length/2\n",
        "            del_u = (self.displacements[element.nodes[1]] - self.displacements[element.nodes[0]])\n",
        "            self.stresses[i] = self.truss.E * del_u / del_x\n",
        "        return self.stresses\n",
        "\n",
        "\n"
      ],
      "metadata": {
        "id": "P23eezkmmgTB"
      },
      "execution_count": 327,
      "outputs": []
    },
    {
      "cell_type": "code",
      "source": [
        "E=50*10**3\n",
        "A=75\n",
        "L=1000\n",
        "\n",
        "num_elem = 2\n",
        "my_truss = Truss1D(num_elem, E, A, L, q = 0.2, F_applied_at_end=10, shape_function=\"quadratic\")\n",
        "my_truss.create_elements()\n",
        "\n",
        "solver = TrussSolver(my_truss)\n",
        "solver.solve()\n",
        "\n",
        "# print(solver.K_global, solver.F_global, solver.displacements, solver.stresses)\n",
        "\n",
        "plotter = Plotter(solver)\n",
        "plotter.plot_displacements()\n",
        "# plotter.plot_stresses()"
      ],
      "metadata": {
        "id": "pvMK5mDzrGdr",
        "outputId": "c1eab9f5-1be8-4696-d9cd-2c457f66df7b",
        "colab": {
          "base_uri": "https://localhost:8080/",
          "height": 472
        }
      },
      "execution_count": 378,
      "outputs": [
        {
          "output_type": "display_data",
          "data": {
            "text/plain": [
              "<Figure size 640x480 with 1 Axes>"
            ],
            "image/png": "[encoded data removed]"
          },
          "metadata": {}
        }
      ]
    },
    {
      "cell_type": "code",
      "source": [
        "K, F, u, sigma = solver.K_global, solver.F_global, solver.displacements,solver.stresses\n",
        "x = np.linspace(0, solver.truss.L, solver.truss.num_nodes)\n",
        "\n",
        "x, u, K, F, sigma"
      ],
      "metadata": {
        "colab": {
          "base_uri": "https://localhost:8080/"
        },
        "id": "RpPVtHjYxQsP",
        "outputId": "308a328e-746f-4bd3-bf3d-a0f2e9d401b6"
      },
      "execution_count": 370,
      "outputs": [
        {
          "output_type": "execute_result",
          "data": {
            "text/plain": [
              "(array([   0.,  500., 1000.]),\n",
              " array([ 0.        , -0.00016667,  0.00116667]),\n",
              " array([[ 20000., -10000., -10000.],\n",
              "        [-10000.,   8750.,   1250.],\n",
              "        [-10000.,   1250.,   8750.]]),\n",
              " array([ 0.,  0., 10.]),\n",
              " array([-0.11666667]))"
            ]
          },
          "metadata": {},
          "execution_count": 370
        }
      ]
    },
    {
      "cell_type": "code",
      "source": [
        "\n",
        "class Plotter:\n",
        "    def __init__(self, truss_solver):\n",
        "        self.truss_solver = truss_solver\n",
        "\n",
        "    def plot_displacements(self):\n",
        "        x = np.linspace(0, self.truss_solver.truss.L, self.truss_solver.truss.num_nodes)\n",
        "        plt.plot(x, self.truss_solver.displacements, label=f'{self.truss_solver.truss.num_elem} Elements')\n",
        "        plt.title(f'Displacement vs. Element Position | {self.truss_solver.truss.shape_function}')\n",
        "        plt.xlabel('x [mm]')\n",
        "        plt.ylabel('Displacement [mm]')\n",
        "        plt.legend()\n",
        "        plt.show()\n",
        "\n",
        "    def plot_stresses(self):\n",
        "        x = np.linspace(0, self.truss_solver.truss.L, self.truss_solver.truss.num_nodes)\n",
        "        # To create a stepped plot\n",
        "        x_rep = np.repeat(x, 2)\n",
        "        sigma_rep = np.repeat(self.truss_solver.stresses, 2)\n",
        "        plt.plot(x_rep[1:-1], sigma_rep, label=f'{self.truss_solver.truss.num_elem} Elements')\n",
        "        plt.title('Stress vs. Element Position')\n",
        "        plt.xlabel('x [mm]')\n",
        "        plt.ylabel('Stress [MPa]')\n",
        "        plt.legend()\n",
        "        plt.show()\n"
      ],
      "metadata": {
        "id": "pH5Q34A9mgvh"
      },
      "execution_count": 364,
      "outputs": []
    }
  ],
  "metadata": {
    "language_info": {
      "name": "python"
    },
    "colab": {
      "provenance": []
    },
    "kernelspec": {
      "name": "python3",
      "display_name": "Python 3"
    }
  },
  "nbformat": 4,
  "nbformat_minor": 0
}