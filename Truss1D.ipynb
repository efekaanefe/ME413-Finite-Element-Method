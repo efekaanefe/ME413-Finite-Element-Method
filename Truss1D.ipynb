{
  "cells": [
    {
      "cell_type": "code",
      "execution_count": 1,
      "metadata": {
        "id": "CqylRLdHkAl3"
      },
      "outputs": [],
      "source": [
        "import numpy as np\n",
        "import matplotlib.pyplot as plt\n",
        "\n",
        "# TODO: make 1D truss linear solver with fixed area and constant material properties\n"
      ]
    },
    {
      "cell_type": "code",
      "source": [
        "class TrussElement:\n",
        "    def __init__(self, node_indeces, E, A, length, q,shape_function=\"linear\"):\n",
        "        self.nodes = node_indeces\n",
        "        self.E = E\n",
        "        self.A = A\n",
        "        self.length = length\n",
        "        self.q = q\n",
        "        self.shape_function = shape_function\n",
        "\n",
        "    def stiffness_matrix(self):\n",
        "        if self.shape_function == \"linear\":\n",
        "            k = self.E * self.A / self.length\n",
        "            return k*np.array([[1, -1], [-1, 1]])\n",
        "        elif self.shape_function == \"quadratic\":\n",
        "            k = self.E * self.A / (self.length*3)\n",
        "            return k*np.array([[7, -4, 1], [-4, 8, -4], [1, -4, 7]])\n",
        "\n",
        "    def load_vector(self):\n",
        "        # Calculate the load vector for the element\n",
        "        if self.shape_function == \"linear\":\n",
        "            return np.array([self.q*self.length / 2, self.q*self.length / 2])\n",
        "        elif self.shape_function == \"quadratic\":\n",
        "            return np.array([self.q*self.length / 6, 4*self.q*self.length / 6, self.q*self.length / 6])\n",
        "\n",
        "    def calculate_node_coordinates(self):\n",
        "        # Calculate the coordinates of the nodes\n",
        "        pass\n",
        "\n",
        "    def __repr__(self):\n",
        "        return f\"TrussElement(nodes={self.nodes}\"\n"
      ],
      "metadata": {
        "id": "Ifc8pXATmehS"
      },
      "execution_count": 55,
      "outputs": []
    },
    {
      "cell_type": "code",
      "source": [
        "# N, mm, MPa\n",
        "\n",
        "class Truss1D:\n",
        "    def __init__(self, num_elem, E, A, L, q = 0, F_applied_at_end = 0, shape_function=\"linear\"):\n",
        "        self.num_elem = num_elem\n",
        "        self.E = E\n",
        "        self.A = A\n",
        "        self.L = L\n",
        "        self.q = q # distributed load, N/mm\n",
        "        self.F_applied_at_end = F_applied_at_end # N\n",
        "        self.shape_function = shape_function\n",
        "\n",
        "        self.elements = np.zeros(num_elem, dtype=TrussElement)\n",
        "        self.num_nodes = self.num_elem + 1 if shape_function == \"linear\" else 2*self.num_elem + 1\n",
        "\n",
        "    def create_elements(self):\n",
        "        # create TrussElemets for a specified length of truss with num_elements\n",
        "        element_length = self.L / self.num_elem\n",
        "        for i, element_i in enumerate(range(self.num_elem)):\n",
        "            if self.shape_function == \"linear\":\n",
        "                x1 = element_i * element_length\n",
        "                x2 = (element_i + 1) * element_length\n",
        "                node_indeces = [element_i, element_i + 1]\n",
        "                self.elements[i] = TrussElement(node_indeces, self.E,  self.A, element_length,q=self.q, shape_function=self.shape_function)\n",
        "\n",
        "            elif self.shape_function == \"quadratic\":\n",
        "                nodes = [2*element_i-1, 2*element_i, 2*element_i+1]\n",
        "\n",
        "    def __repr__(self):\n",
        "        return self.elements\n"
      ],
      "metadata": {
        "id": "HJX8U5Yfn8ke"
      },
      "execution_count": 56,
      "outputs": []
    },
    {
      "cell_type": "code",
      "source": [
        "E=50*10**3\n",
        "A=75\n",
        "L=1000\n",
        "\n",
        "num_elem = 2\n",
        "my_truss = Truss1D(num_elem, E, A, L, q = 0, F_applied_at_end=10)\n",
        "my_truss.create_elements()\n",
        "\n",
        "solver = TrussSolver(my_truss)\n",
        "solver.assemble_global_matrices()"
      ],
      "metadata": {
        "id": "pvMK5mDzrGdr",
        "outputId": "8a439165-913d-4859-b3c0-d3631acf0a6c",
        "colab": {
          "base_uri": "https://localhost:8080/"
        }
      },
      "execution_count": 60,
      "outputs": [
        {
          "output_type": "execute_result",
          "data": {
            "text/plain": [
              "(array([[ 7500., -7500.,     0.],\n",
              "        [-7500., 15000., -7500.],\n",
              "        [    0., -7500.,  7500.]]),\n",
              " array([ 0.,  0., 10.]))"
            ]
          },
          "metadata": {},
          "execution_count": 60
        }
      ]
    },
    {
      "cell_type": "code",
      "source": [
        "class TrussSolver:\n",
        "    def __init__(self, truss : Truss1D):\n",
        "        self.truss = truss\n",
        "\n",
        "        self.K_global = None\n",
        "        self.F_global = None\n",
        "        self.displacements = None\n",
        "\n",
        "    def assemble_global_matrices(self):\n",
        "        # Assemble the global stiffness and load vector\n",
        "        self.K_global = np.zeros((self.truss.num_nodes, self.truss.num_nodes))\n",
        "        for i, element in enumerate(self.truss.elements):\n",
        "            k_element = element.stiffness_matrix()\n",
        "            for j in range(2):\n",
        "                for k in range(2):\n",
        "                    self.K_global[element.nodes[j], element.nodes[k]] += k_element[j, k]\n",
        "\n",
        "        self.F_global = np.zeros(self.truss.num_nodes)\n",
        "        for i, element in enumerate(self.truss.elements):\n",
        "            for j in range(2):\n",
        "                f_element = element.load_vector()\n",
        "                self.F_global[element.nodes[j]] += f_element[j]\n",
        "        self.F_global[-1] += self.truss.F_applied_at_end\n",
        "\n",
        "        return self.K_global, self.F_global\n",
        "\n",
        "\n",
        "    def solve_displacements(self):\n",
        "        # Solve for displacements\n",
        "        pass\n",
        "\n",
        "    def compute_stresses(self):\n",
        "        # Calculate stresses in each element\n",
        "        pass\n"
      ],
      "metadata": {
        "id": "P23eezkmmgTB"
      },
      "execution_count": 58,
      "outputs": []
    },
    {
      "cell_type": "code",
      "source": [
        "\n",
        "class Plotter:\n",
        "    def __init__(self, truss_solver):\n",
        "        self.truss_solver = truss_solver\n",
        "\n",
        "    def plot_displacements(self):\n",
        "        # Code to plot displacement vs. analytical solution\n",
        "        pass\n",
        "\n",
        "    def plot_stresses(self):\n",
        "        # Code to plot stress vs. analytical solution\n",
        "        pass\n"
      ],
      "metadata": {
        "id": "pH5Q34A9mgvh"
      },
      "execution_count": 6,
      "outputs": []
    },
    {
      "cell_type": "code",
      "source": [],
      "metadata": {
        "id": "zzziB7HFWoAb"
      },
      "execution_count": null,
      "outputs": []
    }
  ],
  "metadata": {
    "language_info": {
      "name": "python"
    },
    "colab": {
      "provenance": []
    },
    "kernelspec": {
      "name": "python3",
      "display_name": "Python 3"
    }
  },
  "nbformat": 4,
  "nbformat_minor": 0
}