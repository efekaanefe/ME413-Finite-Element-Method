{
  "cells": [
    {
      "cell_type": "code",
      "execution_count": 1,
      "metadata": {
        "id": "CqylRLdHkAl3"
      },
      "outputs": [],
      "source": [
        "import numpy as np\n",
        "import matplotlib.pyplot as plt\n",
        "\n",
        "# TODO: make 1D truss linear solver with fixed area and constant material properties\n"
      ]
    },
    {
      "cell_type": "code",
      "source": [
        "class TrussElement:\n",
        "    def __init__(self, nodes, E, A, length, shape_function=\"linear\"):\n",
        "        self.nodes = nodes # 2 nodes for linear, 3 nodes for quadratic\n",
        "        self.E = E\n",
        "        self.A = A\n",
        "        self.length = length\n",
        "        self.shape_function = shape_function\n",
        "\n",
        "    def stiffness_matrix(self):\n",
        "        if self.shape_function == \"linear\":\n",
        "            k = self.E * self.A / self.length\n",
        "            return k*np.array([[1, -1], [-1, 1]])\n",
        "        elif self.shape_function == \"quadratic\":\n",
        "            # Implement quadratic shape function\n",
        "            pass\n",
        "    def __repr__(self):\n",
        "        return f\"TrussElement(nodes={self.nodes}\"\n"
      ],
      "metadata": {
        "id": "Ifc8pXATmehS"
      },
      "execution_count": 16,
      "outputs": []
    },
    {
      "cell_type": "code",
      "source": [
        "class Truss1D:\n",
        "    def __init__(self, num_elem, E, A, L, shape_function=\"linear\"):\n",
        "        self.num_elem = num_elem\n",
        "        self.E = E\n",
        "        self.A = A\n",
        "        self.L = L\n",
        "        self.shape_function = shape_function\n",
        "        self.elements = np.zeros(num_elem, dtype=TrussElement)\n",
        "\n",
        "    def create_elements(self):\n",
        "        # create TrussElemets for a specified length of truss with num_elements\n",
        "        element_length = self.L / self.num_elem\n",
        "        for i, element_i in enumerate(range(self.num_elem)):\n",
        "            if self.shape_function == \"linear\":\n",
        "                x1 = element_i * element_length\n",
        "                x2 = (element_i + 1) * element_length\n",
        "                nodes = [x1, x2]\n",
        "                self.elements[i] = TrussElement(nodes, self.E,  self.A, element_length, self.shape_function)\n",
        "        return self.elements\n",
        "\n",
        "\n",
        "\n"
      ],
      "metadata": {
        "id": "HJX8U5Yfn8ke"
      },
      "execution_count": 17,
      "outputs": []
    },
    {
      "cell_type": "code",
      "source": [
        "E=50*10**3\n",
        "A=75\n",
        "L=1000\n",
        "\n",
        "num_elem = 10\n",
        "my_truss = Truss1D(num_elem, E, A, L)\n",
        "my_truss.create_elements()"
      ],
      "metadata": {
        "id": "pvMK5mDzrGdr",
        "outputId": "30aa3633-d4c8-42fb-df8e-71a561684aaf",
        "colab": {
          "base_uri": "https://localhost:8080/"
        }
      },
      "execution_count": 18,
      "outputs": [
        {
          "output_type": "execute_result",
          "data": {
            "text/plain": [
              "array([TrussElement(nodes=[0.0, 100.0], TrussElement(nodes=[100.0, 200.0],\n",
              "       TrussElement(nodes=[200.0, 300.0],\n",
              "       TrussElement(nodes=[300.0, 400.0],\n",
              "       TrussElement(nodes=[400.0, 500.0],\n",
              "       TrussElement(nodes=[500.0, 600.0],\n",
              "       TrussElement(nodes=[600.0, 700.0],\n",
              "       TrussElement(nodes=[700.0, 800.0],\n",
              "       TrussElement(nodes=[800.0, 900.0],\n",
              "       TrussElement(nodes=[900.0, 1000.0]], dtype=object)"
            ]
          },
          "metadata": {},
          "execution_count": 18
        }
      ]
    },
    {
      "cell_type": "code",
      "source": [
        "class TrussSolver:\n",
        "    def __init__(self, elements, applied_force, body_force=0):\n",
        "        self.elements = elements\n",
        "        self.applied_force = applied_force\n",
        "        self.body_force = body_force\n",
        "        self.global_stiffness_matrix = None\n",
        "        self.force_vector = None\n",
        "        self.displacements = None\n",
        "\n",
        "    def assemble_global_matrices(self):\n",
        "        # Assemble the global stiffness matrix and force vector\n",
        "        pass\n",
        "\n",
        "    def apply_boundary_conditions(self):\n",
        "        # Apply boundary conditions to the global matrices\n",
        "        pass\n",
        "\n",
        "    def solve_displacements(self):\n",
        "        # Solve for displacements\n",
        "        pass\n",
        "\n",
        "    def compute_stresses(self):\n",
        "        # Calculate stresses in each element\n",
        "        pass\n"
      ],
      "metadata": {
        "id": "P23eezkmmgTB"
      },
      "execution_count": 5,
      "outputs": []
    },
    {
      "cell_type": "code",
      "source": [
        "\n",
        "class Plotter:\n",
        "    def __init__(self, truss_solver):\n",
        "        self.truss_solver = truss_solver\n",
        "\n",
        "    def plot_displacements(self):\n",
        "        # Code to plot displacement vs. analytical solution\n",
        "        pass\n",
        "\n",
        "    def plot_stresses(self):\n",
        "        # Code to plot stress vs. analytical solution\n",
        "        pass\n"
      ],
      "metadata": {
        "id": "pH5Q34A9mgvh"
      },
      "execution_count": null,
      "outputs": []
    }
  ],
  "metadata": {
    "language_info": {
      "name": "python"
    },
    "colab": {
      "provenance": []
    },
    "kernelspec": {
      "name": "python3",
      "display_name": "Python 3"
    }
  },
  "nbformat": 4,
  "nbformat_minor": 0
}