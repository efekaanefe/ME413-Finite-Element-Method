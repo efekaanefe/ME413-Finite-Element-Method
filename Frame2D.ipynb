{
  "cells": [
    {
      "cell_type": "code",
      "execution_count": 1,
      "metadata": {
        "colab": {
          "base_uri": "https://localhost:8080/"
        },
        "id": "3splstSxfaSy",
        "outputId": "9098d35b-e074-4b63-8268-f11900e11bf3"
      },
      "outputs": [
        {
          "output_type": "stream",
          "name": "stdout",
          "text": [
            "Collecting icecream\n",
            "  Downloading icecream-2.1.3-py2.py3-none-any.whl.metadata (1.4 kB)\n",
            "Collecting colorama>=0.3.9 (from icecream)\n",
            "  Downloading colorama-0.4.6-py2.py3-none-any.whl.metadata (17 kB)\n",
            "Requirement already satisfied: pygments>=2.2.0 in /usr/local/lib/python3.10/dist-packages (from icecream) (2.18.0)\n",
            "Collecting executing>=0.3.1 (from icecream)\n",
            "  Downloading executing-2.1.0-py2.py3-none-any.whl.metadata (8.9 kB)\n",
            "Collecting asttokens>=2.0.1 (from icecream)\n",
            "  Downloading asttokens-3.0.0-py3-none-any.whl.metadata (4.7 kB)\n",
            "Downloading icecream-2.1.3-py2.py3-none-any.whl (8.4 kB)\n",
            "Downloading asttokens-3.0.0-py3-none-any.whl (26 kB)\n",
            "Downloading colorama-0.4.6-py2.py3-none-any.whl (25 kB)\n",
            "Downloading executing-2.1.0-py2.py3-none-any.whl (25 kB)\n",
            "Installing collected packages: executing, colorama, asttokens, icecream\n",
            "Successfully installed asttokens-3.0.0 colorama-0.4.6 executing-2.1.0 icecream-2.1.3\n"
          ]
        }
      ],
      "source": [
        "%pip install icecream"
      ]
    },
    {
      "cell_type": "code",
      "execution_count": 327,
      "metadata": {
        "id": "kMMwzTgvUylD"
      },
      "outputs": [],
      "source": [
        "import numpy as np\n",
        "import matplotlib.pyplot as plt\n",
        "from icecream import ic\n",
        "print=ic"
      ]
    },
    {
      "cell_type": "code",
      "execution_count": 348,
      "metadata": {
        "id": "gD4sEdglZjFt"
      },
      "outputs": [],
      "source": [
        "class FrameElement2D:\n",
        "    def  __init__(self, node_indeces, node_coordinates,E,A,L,I, theta = 0):\n",
        "        self.node_indeces = node_indeces\n",
        "        self.node_coordinates = node_coordinates\n",
        "        self.E = E\n",
        "        self.A = A\n",
        "        self.L = L\n",
        "        self.I = I\n",
        "        self.theta = theta\n",
        "        self.k_elem_local = None\n",
        "\n",
        "    def get_local_stiffness_matrix(self):\n",
        "        # returns the stiffness matrix for the element in local coordinates\n",
        "        E = self.E; I = self.I; L = self.L; A = self.A\n",
        "        self.k_elem_local = np.array(\n",
        "            [[E*A/L, 0,0,-E*A/L,0,0],\n",
        "             [0, 12*E*I/L**3, 6*E*I/L**2, 0, -12*E*I/L**3, 6*E*I/L**2],\n",
        "             [0, 6*E*I/L**2, 4*E*I/L, 0, -6*E*I/L**2, 2*E*I/L],\n",
        "             [-E*A/L, 0,0,E*A/L,0,0],\n",
        "             [0, -12*E*I/L**3, -6*E*I/L**2, 0, 12*E*I/L**3, -6*E*I/L**2],\n",
        "             [0, 6*E*I/L**2, 2*E*I/L, 0, -6*E*I/L**2, 4*E*I/L]])\n",
        "        return self.k_elem_local\n",
        "\n",
        "    def get_global_stiffness_matrix(self):\n",
        "        self.get_local_stiffness_matrix()\n",
        "        # returns the global stiffness matrix for the element in global coordinates\n",
        "        S = np.sin(np.deg2rad(self.theta))\n",
        "        C = np.cos(np.deg2rad(self.theta))\n",
        "        self.T = np.array([\n",
        "            [C,S,0,0,0,0],\n",
        "            [-S,C,0,0,0,0],\n",
        "            [0,0,1,0,0,0],\n",
        "            [0,0,0,C,S,0],\n",
        "            [0,0,0,-S,C,0],\n",
        "            [0,0,0,0,0,1]])\n",
        "\n",
        "        self.K_elem_global = self.T.T @ self.k_elem_local @ self.T\n",
        "        return self.K_elem_global\n"
      ]
    },
    {
      "cell_type": "code",
      "execution_count": 349,
      "metadata": {
        "id": "G8qKVr-oaAD0"
      },
      "outputs": [],
      "source": [
        "class FrameSystem2D:\n",
        "    def __init__(self, elements, num_nodes, forces, boundary_conditions):\n",
        "        self.elements = elements\n",
        "        self.num_nodes = num_nodes\n",
        "        self.forces = forces\n",
        "        self.boundary_conditions = boundary_conditions\n"
      ]
    },
    {
      "cell_type": "code",
      "execution_count": 350,
      "metadata": {
        "id": "ehETAhP7dtSm"
      },
      "outputs": [],
      "source": [
        "class Solver:\n",
        "    def __init__(self, system):\n",
        "        self.system = system\n",
        "\n",
        "    def solve(self):\n",
        "        K_global, F_global = self.assemble_global_matrices()\n",
        "        Kuu, Fu = self.apply_boundary_conditions()\n",
        "        displacements = self.solve_displacements()\n",
        "        # loads = self.calculate_internal_forces_and_moments()\n",
        "\n",
        "        # return self.displacements, self.loads\n",
        "\n",
        "    def assemble_global_matrices(self):\n",
        "        # Assemble global stiffness\n",
        "        self.K_global = np.zeros((self.system.num_nodes*3, self.system.num_nodes*3)) # multiply by 3 cause for a node 3 is the DoF\n",
        "\n",
        "        for element in self.system.elements:\n",
        "            K_elem = element.get_global_stiffness_matrix()\n",
        "            node_per_element = len(self.system.elements[0].node_indeces) # 2 for linear\n",
        "\n",
        "            # Get the global DOF indices for the element's nodes\n",
        "            global_dof_indices = []\n",
        "            for node_index in element.node_indeces:\n",
        "                global_dof_indices.extend([3 * node_index, 3 * node_index + 1, 3 * node_index + 2])  # DOFs: x, y, z\n",
        "\n",
        "            for i in range(len(global_dof_indices)):\n",
        "                for j in range(len(global_dof_indices)):\n",
        "                    self.K_global[global_dof_indices[i], global_dof_indices[j]] += K_elem[i, j]\n",
        "\n",
        "        # Assemble load vector\n",
        "        self.F_global = np.zeros((self.system.num_nodes*3))\n",
        "        for node_index, f_x, f_y, m_z in self.system.forces:\n",
        "            global_dof_index = int(3 * node_index)\n",
        "            self.F_global[global_dof_index] += f_x\n",
        "            self.F_global[global_dof_index + 1] += f_y\n",
        "            self.F_global[global_dof_index + 2] += m_z\n",
        "\n",
        "        return self.K_global, self.F_global\n",
        "\n",
        "    def apply_boundary_conditions(self):\n",
        "        known_global_indeces = []\n",
        "        for node_index, constraint_x, constraint_y, constraint_theta in self.system.boundary_conditions:\n",
        "            global_dof_index = int(3 * node_index)\n",
        "            if constraint_x == 1:\n",
        "                known_global_indeces.append(global_dof_index)\n",
        "            if constraint_y == 1:\n",
        "                known_global_indeces.append(global_dof_index + 1)\n",
        "            if constraint_theta == 1:\n",
        "                known_global_indeces.append(global_dof_index + 2)\n",
        "\n",
        "        self.known_global_indeces = known_global_indeces\n",
        "        self.unknown_global_indeces = [i for i in range(self.system.num_nodes*3) if i not in self.known_global_indeces]\n",
        "\n",
        "        # get the matrix while remowing the indeces in known global indeces\n",
        "        self.Kuu = np.delete(np.delete(self.K_global, known_global_indeces, axis=0), known_global_indeces, axis=1)\n",
        "        self.Fu = np.delete(self.F_global, known_global_indeces, axis=0)\n",
        "\n",
        "        return self.Kuu, self.Fu\n",
        "\n",
        "    def solve_displacements(self):\n",
        "        self.Du = np.linalg.solve(self.Kuu, self.Fu) # unknown displacements\n",
        "\n",
        "        # merge known and unknown displacements\n",
        "        self.displacements = np.zeros((self.system.num_nodes*3))\n",
        "        self.displacements[self.unknown_global_indeces] = self.Du\n",
        "\n",
        "        return self.displacements\n",
        "\n",
        "    # def calculate_internal_forces_and_moments(self):\n",
        "    #     self.internal_forces = np.zeros((len(self.system.elements), 2)) # V, M\n",
        "    #     for i, element in enumerate(self.system.elements):\n",
        "    #             d_e = self.displacements[ i*2: i*2+2*2] # displacement_element\n",
        "\n",
        "    #             E = element.E, I = element.I\n",
        "\n",
        "    #             V = -E*I* np.dot(element.get_d3N_dx3(), d_e)\n",
        "    #             M1, M2 = -E*I*np.dot(element.get_d2N_dx2(), d_e)\n",
        "\n",
        "    #             self.internal_forces[i] = [V, M1, M2]\n",
        "\n",
        "    #     return self.internal_forces\n"
      ]
    },
    {
      "cell_type": "code",
      "execution_count": 351,
      "metadata": {
        "id": "wLVnqtZrdl01"
      },
      "outputs": [],
      "source": [
        "class Plotter:\n",
        "    def __init__(self, solver):\n",
        "        self.system = solver.system\n",
        "        self.displacements = solver.displacements\n",
        "        # self.stresses = solver.stresses\n",
        "\n",
        "    def plot_system(self):\n",
        "        \"\"\"\n",
        "        plots the truss system\n",
        "        \"\"\"\n",
        "        for i, element in enumerate(self.system.elements):\n",
        "            pos1, pos2 = element.node_coordinates\n",
        "            node_index1, node_index2 = element.node_indeces\n",
        "            offset = +0 # for text\n",
        "\n",
        "            # PLOT INITIAL SYSTEM\n",
        "            x1, y1 = pos1\n",
        "            x2, y2 = pos2\n",
        "            plt.scatter([x1,x2], [y1,y2],c=\"r\")\n",
        "            plt.plot([x1,x2], [y1,y2],c=\"r\")\n",
        "            plt.text(x1, y1+offset, node_index1, color=\"r\", horizontalalignment='left',\n",
        "        verticalalignment='top')\n",
        "            plt.text(x2, y2+offset, node_index2, color=\"r\", horizontalalignment='left',\n",
        "        verticalalignment='top')\n",
        "\n",
        "\n",
        "            # PLOT SYSTEM WITH DISPLACEMENTS\n",
        "            dx1, dy1, dtheta1 = self.displacements[3*node_index1:3*node_index1+3]\n",
        "            dx2, dy2, dtheta2 = self.displacements[3*node_index2:3*node_index2+3]\n",
        "\n",
        "            x1_disp = x1 + dx1; y1_disp = y1 + dy1\n",
        "            x2_disp = x2 + dx2; y2_disp = y2 + dy2\n",
        "\n",
        "            plt.scatter([x1_disp,x2_disp], [y1_disp,y2_disp],c=\"b\")\n",
        "            plt.plot([x1_disp,x2_disp], [y1_disp,y2_disp],c=\"b\", linestyle=\"--\")\n",
        "            plt.text(x1_disp, y1_disp+offset, node_index1, color=\"b\", horizontalalignment='left',\n",
        "        verticalalignment='top')\n",
        "            plt.text(x2_disp, y2_disp+offset, node_index2, color=\"b\", horizontalalignment='left',\n",
        "        verticalalignment='top')\n",
        "\n",
        "\n",
        "            # # PLOT ELEMENT INTERNAL FORCES\n",
        "            # x_mid = x1_disp + (x2_disp - x1_disp) * 0.5\n",
        "            # y_mid = y1_disp + (y2_disp - y1_disp) * 0.5\n",
        "            # plt.text(x_mid, y_mid, f\"{self.stresses[i]/1000*element.A:.2f} kN\", color=\"black\")\n",
        "\n",
        "        plt.title(\"Frame Element(s)\")\n",
        "        plt.xlabel(\"x [mm]\")\n",
        "        plt.ylabel(\"y [mm]\")\n",
        "        plt.show()"
      ]
    },
    {
      "cell_type": "code",
      "execution_count": 404,
      "metadata": {
        "id": "7vf4wagcbsIM"
      },
      "outputs": [],
      "source": [
        "# [units: N, mm, MPa]\n",
        "E = 200e3; I = 7.81E7; L=6e3; A = 6250\n",
        "P = 20e3 # applied force\n",
        "\n",
        "connectivity = np.array([[0,1], [1,2], [2,3]])\n",
        "nodal_coordinates = np.array([[0,0], [0,L], [L,L], [L,0]])\n",
        "angles_of_elements = np.array([90, 0, 90])\n",
        "\n",
        "# node_index, constraint_x, constraint_y, constraint_theta\n",
        "boundary_conditions = np.array([\n",
        "                            [0,1,1,1],\n",
        "                            [3,1,1,1]])\n",
        "\n",
        " # node_index, f_x, f_y, moment_z\n",
        "forces = np.array([\n",
        "                [1, P*100, P*1000, 0],   # applied force\n",
        "                ])\n",
        "\n",
        "num_nodes = (np.max(connectivity) + 1)\n",
        "\n",
        "elements = []\n",
        "for i, node_indeces in enumerate(connectivity):\n",
        "    node_coordinates = nodal_coordinates[node_indeces]\n",
        "    element = FrameElement2D(node_indeces, node_coordinates, E,A,L,I, theta = angles_of_elements[i])\n",
        "    elements.append(element)\n",
        "\n",
        "system = FrameSystem2D(elements, num_nodes, forces, boundary_conditions)\n"
      ]
    },
    {
      "cell_type": "code",
      "source": [
        "# Kuu_correct = np.array([\n",
        "#     [209e3,0,260e4,-208e3,0,0],\n",
        "#     [0,209e3,260e4,0,-868,260e4],\n",
        "#     [260e4,260e4,208e8,0,-260e4,521e7],\n",
        "#     [-208e3,0,0,209e3,0,260e4],\n",
        "#     [0,-868,-260e4,0,209e3,-260e4],\n",
        "#     [0,260e4,521e7,260e4,-260e4,208e8]\n",
        "# ])\n",
        "\n",
        "# Kuu_correct / solver.Kuu"
      ],
      "metadata": {
        "id": "922jw3zVNlWH"
      },
      "execution_count": 405,
      "outputs": []
    },
    {
      "cell_type": "code",
      "execution_count": 406,
      "metadata": {
        "colab": {
          "base_uri": "https://localhost:8080/"
        },
        "id": "QBWyQwAAdv1o",
        "outputId": "d6b1565f-7ca1-40e0-b533-28c042d9b437"
      },
      "outputs": [
        {
          "output_type": "stream",
          "name": "stderr",
          "text": [
            "ic| nodal_disp: 'Node 0: del_x = 0.0000 mm, del_y = 0.0000 mm, del_theta = 0.0000 rad'\n",
            "ic| nodal_disp: 'Node 1: del_x = 2307.1937 mm, del_y = 95.8467 mm, del_theta = -0.3939 rad'\n",
            "ic| nodal_disp: 'Node 2: del_x = 2302.2813 mm, del_y = 0.1533 mm, del_theta = 0.3743 rad'\n",
            "ic| nodal_disp: 'Node 3: del_x = 0.0000 mm, del_y = 0.0000 mm, del_theta = 0.0000 rad'\n"
          ]
        }
      ],
      "source": [
        "solver = Solver(system)\n",
        "solver.solve()\n",
        "# _ = print(solver.K_global, solver.F_global, solver.Kuu, solver.Fu, solver.Du, solver.displacements)\n",
        "\n",
        "for i in range(0, len(solver.displacements), 3):\n",
        "    nodal_disp = f\"Node {i//3}: del_x = {solver.displacements[i]:.4f} mm, del_y = {solver.displacements[i+1]:.4f} mm, del_theta = {solver.displacements[i+2]:.4f} rad\"\n",
        "    print(nodal_disp)"
      ]
    },
    {
      "cell_type": "code",
      "execution_count": 407,
      "metadata": {
        "colab": {
          "base_uri": "https://localhost:8080/",
          "height": 472
        },
        "id": "u5X7ylIBdw37",
        "outputId": "c7251097-787b-4edf-affc-7c23b44de7fd"
      },
      "outputs": [
        {
          "output_type": "display_data",
          "data": {
            "text/plain": [
              "<Figure size 640x480 with 1 Axes>"
            ],
            "image/png": "[encoded data removed]"
          },
          "metadata": {}
        }
      ],
      "source": [
        "plotter = Plotter(solver)\n",
        "plotter.plot_system()"
      ]
    },
    {
      "cell_type": "code",
      "execution_count": 403,
      "metadata": {
        "id": "0LJDsqqioqBc"
      },
      "outputs": [],
      "source": []
    }
  ],
  "metadata": {
    "colab": {
      "provenance": []
    },
    "kernelspec": {
      "display_name": "Python 3",
      "name": "python3"
    },
    "language_info": {
      "name": "python"
    }
  },
  "nbformat": 4,
  "nbformat_minor": 0
}